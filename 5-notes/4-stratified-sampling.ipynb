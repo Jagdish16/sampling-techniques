{
 "cells": [
  {
   "cell_type": "markdown",
   "metadata": {},
   "source": [
    "# Stratified Random Sampling Notes"
   ]
  },
  {
   "cell_type": "markdown",
   "metadata": {},
   "source": [
    "### Introduction"
   ]
  },
  {
   "cell_type": "markdown",
   "metadata": {},
   "source": [
    "So far we have discussed simple random samples.  But there is another technique to discuss which is called stratified random sampling."
   ]
  },
  {
   "cell_type": "markdown",
   "metadata": {},
   "source": [
    "### Stratified Random Sampling"
   ]
  },
  {
   "cell_type": "markdown",
   "metadata": {},
   "source": [
    "In statistics, stratified sampling is a method of sampling from a population which can be partitioned into subpopulations.\n",
    "\n",
    "\n",
    "* Stratified sampling description\n",
    "\n",
    "Stratification is the process of dividing members of the population into subgroups before sampling. The strata should define a partition of the population. That is, it should be collectively exhaustive and mutually exclusive: every element in the population must be assigned to one and only one stratum. Then simple random sampling or systematic sampling is applied within each stratum.\n",
    "\n"
   ]
  },
  {
   "cell_type": "markdown",
   "metadata": {},
   "source": [
    "> The 2012 election showed that relying solely on landline telephones produces estimates that tend to overestimate Republican support. On the other hand, calling cellphones is much more expensive.\n",
    "\n",
    "> Some polling organizations – including Emerson College – stayed with calling only landlines. Others called a set proportion of cellphones. Public Policy Polling stuck with calling 80 percent landline and 20 percent cellphone throughout the election cycle. Monmouth University tended closer to a 50-50 split.\n",
    "\n",
    "> Other firms gave up on the telephone altogether. Survey Monkey relied on their large database of online users. The University of Southern California created a panel of approximately 3,000 people and polled the same group online throughout the cycle."
   ]
  },
  {
   "cell_type": "markdown",
   "metadata": {},
   "source": [
    "[The Death of Polling May be Exaggerated, The Conversation, Nov. 9, 2016](http://theconversation.com/reports-of-the-death-of-polling-have-been-greatly-exaggerated-68504)"
   ]
  },
  {
   "cell_type": "markdown",
   "metadata": {},
   "source": [
    "### Problems with Stratified Random Sampling\n",
    "\n",
    "Stratified sampling can be problematic as it assumes that we are selecting the attributes that determine differences in the population.  It relies on the concept of representativeness.\n",
    "\n",
    "> It relies on the image of a microcosmic population, a cleverly selected sample that is an exeact replica of the larger universe.  It is a Noah's Ark sort of conception, with proportional representation of different types of individuals.  \n",
    "\n",
    "> If we knew exactly what measurable attributes were most predictive...we might try to design proportionalized samples only on those attributes.  But we often don't have such information.\n",
    "\n",
    "> - Statistics as a Principled Argument, Robert Abelson"
   ]
  },
  {
   "cell_type": "markdown",
   "metadata": {},
   "source": [
    "### Weighted Samples"
   ]
  },
  {
   "cell_type": "markdown",
   "metadata": {},
   "source": [
    "Weighted samples or sample balancing is similar to stratified sampling.  Here's the difference.  In stratified sampling, we are dividing up our groups *before* we sample, based on assumptions about the underlying population.  In weighted sampling we first applying a simple random sample, and then weighing members of the sample according to assumptions about the underlying population.\n",
    "\n",
    "Weighted sampling is a popular sampling technique.  Let's see how 538 does it."
   ]
  },
  {
   "cell_type": "markdown",
   "metadata": {},
   "source": [
    "### Resources"
   ]
  },
  {
   "cell_type": "markdown",
   "metadata": {},
   "source": [
    "[How polls are conducted](https://media.gallup.com/PDF/FAQ/HowArePolls.pdf)"
   ]
  },
  {
   "cell_type": "markdown",
   "metadata": {},
   "source": [
    "[UCA Sampling Techniques](https://uca.edu/psychology/files/2013/08/Ch7-Sampling-Techniques.pdf)"
   ]
  }
 ],
 "metadata": {
  "kernelspec": {
   "display_name": "Python 3",
   "language": "python",
   "name": "python3"
  },
  "language_info": {
   "codemirror_mode": {
    "name": "ipython",
    "version": 3
   },
   "file_extension": ".py",
   "mimetype": "text/x-python",
   "name": "python",
   "nbconvert_exporter": "python",
   "pygments_lexer": "ipython3",
   "version": "3.7.4"
  }
 },
 "nbformat": 4,
 "nbformat_minor": 4
}
