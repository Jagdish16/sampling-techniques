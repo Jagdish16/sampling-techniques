{
 "cells": [
  {
   "cell_type": "markdown",
   "metadata": {},
   "source": [
    "# Gallup Poll"
   ]
  },
  {
   "cell_type": "markdown",
   "metadata": {},
   "source": [
    "### The Sampling Issue"
   ]
  },
  {
   "cell_type": "markdown",
   "metadata": {},
   "source": [
    "Probability sampling is the fundamental basis for all survey research. The basic principle: a\n",
    "randomly selected, small percent of a population of people can represent the attitudes,\n",
    "opinions, or projected behavior of all of the people, if the sample is selected correctly.\n",
    "\n",
    "The fundamental goal of a survey is to come up with the same results that would have been\n",
    "obtained had every single member of a population been interviewed. For national Gallup polls,\n",
    "in other words, the objective is to present the opinions of a sample of people that are exactly the same opinions that would have been obtained had it been possible to interview all adult Americans in the country.\n",
    "\n",
    "The key to reaching this goal is a fundamental principle called **equal probability of selection**, which states that if every member of a population has an equal probability of being selected in a sample, then that sample will be representative of the population. It's that straightforward.\n",
    "\n",
    "Thus, *it is Gallup's goal in selecting samples to allow every adult American an equal chance of falling into the sample*. How that is done, of course, is the key to the success or failure of the process. \n",
    "\n",
    "> If Gallup achieves this, what is this called?"
   ]
  },
  {
   "cell_type": "code",
   "execution_count": null,
   "metadata": {},
   "outputs": [],
   "source": []
  },
  {
   "cell_type": "markdown",
   "metadata": {},
   "source": [
    "> What is the population that Gallup has defined?  Is there any ambiguity there?"
   ]
  },
  {
   "cell_type": "code",
   "execution_count": null,
   "metadata": {},
   "outputs": [],
   "source": []
  },
  {
   "cell_type": "markdown",
   "metadata": {},
   "source": [
    "### Selecting a Random Sample\n",
    "\n",
    "The first one thousand people streaming out of a Yankees game in the Bronx clearly aren't\n",
    "representative of all Americans. Now consider a group compiled by selecting 1,000 people\n",
    "coming out of a Major League Baseball game in every state in the continental United States --\n",
    "48,000 people! We now have a much larger group -- but we are still no closer to representing\n",
    "the views of all Americans than we were in the Bronx. We have a lot of baseball fans, but,\n",
    "depending on the circumstances, these 48,000 people may not even be a good representative\n",
    "sample of all baseball fans in the country -- much less all Americans, baseball fans or not.\n",
    "When setting out to conduct a national opinion poll, the first thing Gallup does is select a place where all or most Americans are equally likely to be found. That wouldn't be a shopping mall, or a grocery store, an office building, a hotel, or a baseball game. The place nearly all adult Americans are most likely to be found is in their home. So, reaching people at home is the starting place for almost all national surveys.\n",
    "\n",
    "By necessity, the earliest polls were conducted in-person, with Gallup interviewers fanning out across the country, knocking on Americans' doors. This was the standard method of\n",
    "interviewing for nearly fifty years, from about 1935 to the mid-1980s, and it was a\n",
    "demonstrably reliable method. Gallup polls across the twelve presidential elections held\n",
    "between 1936 and 1984 were highly accurate, with the average error in Gallup's final estimate\n",
    "of the election being less than 3 percentage points.\n",
    "\n",
    "By 1986, a sufficient proportion of American households had at least one telephone to make\n",
    "telephone interviewing a viable and substantially less expensive alternative to the in-person\n",
    "method. And by the end of the 1980s, the vast majority of Gallup's national surveys were\n",
    "being conducted by telephone. Today, approximately 95% of all households have a telephone\n",
    "and every survey reported in this book is based on interviews conducted by telephone.\n",
    "Gallup proceeds with several steps in putting together its poll with the objective of letting\n",
    "every American household, and every American adult have an equal chance of falling into the\n",
    "sample. "
   ]
  },
  {
   "cell_type": "markdown",
   "metadata": {},
   "source": [
    "> What are some of the issues with this technique (even assuming it's 1997 and 95% of households own a telephone)?"
   ]
  },
  {
   "cell_type": "markdown",
   "metadata": {},
   "source": [
    "Gallup proceeds with several steps in putting together its poll with the objective of letting\n",
    "every American household, and every American adult have an equal chance of falling into the\n",
    "sample.\n",
    "\n",
    "• **First, we clearly identify and describe the population that a given poll is\n",
    "attempting to represent.** If we were doing a poll about baseball fans on behalf of\n",
    "the sports page of a major newspaper, the target population might simply be all\n",
    "Americans aged 18 and older who say they are fans of the sport of baseball.  If the poll were being conducted on behalf of Major League Baseball, however, the target\n",
    "audience required by the client might more specific, such as people aged twelve and\n",
    "older who watch at least five hours worth of Major League Baseball games on\n",
    "television, or in-person, each week.\n",
    "\n",
    "In the case of Gallup polls that track the election and the major political, social and economic quetions of the day, the target audience is generally referred to as \"national adults.\" Strictly speaking the target audience is all adults, aged 18 and over, living in telephone households within the continental United States. In effect, it is the civilian, non-institutionalized population. \n",
    "> College students living on campus, armed forces personnel living on military bases, prisoners, hospital patients and others living in group institutions are not represented in Gallup's \"sampling frame.\" Clearly these exclusions represent some diminishment in the coverage of the population, but because of the practical difficulties involved in attempting to reach the institutionalized population, it is a compromise Gallup usually needs to make. "
   ]
  },
  {
   "cell_type": "markdown",
   "metadata": {},
   "source": [
    "Next, we choose or design a method that will enable us to sample our target\n",
    "population randomly. In the case of The Gallup Poll, we start with a list of all\n",
    "household telephone numbers in the continental United States. This complicated\n",
    "process really starts with a computerized list of all telephone exchanges in America,\n",
    "along with estimates of the number of residential households those exchanges have \n",
    "attached to them. The computer, using a procedure called random digit dialing (RDD),\n",
    "actually creates phone numbers from those exchanges, then generates telephone\n",
    "samples from those. In essence, this procedure creates a list of all possible household\n",
    "phone numbers in America and then selects a subset of numbers from that list for\n",
    "Gallup to call.\n",
    "\n",
    "It's important to go through this complicated procedure because estimates are that about 30%\n",
    "of American residential phones are unlisted. Although it would be a lot simpler if we used\n",
    "phone books to obtain all listed phone numbers in America and sampled from them (much as\n",
    "you would if you simply took every 38th number from your local phone book), we would miss\n",
    "out on unlisted phone numbers, and introduce a possible bias into the sample. "
   ]
  },
  {
   "cell_type": "markdown",
   "metadata": {},
   "source": [
    "> So what is gallup's sampling frame?  \n",
    "\n",
    "> What kind of bias is it trying to avoid by choosing this sampling frame?"
   ]
  },
  {
   "cell_type": "markdown",
   "metadata": {},
   "source": [
    "### Sample Size"
   ]
  },
  {
   "cell_type": "markdown",
   "metadata": {},
   "source": [
    "One key question faced by Gallup statisticians: how many interviews does it take to provide an\n",
    "adequate cross-section of Americans? The answer is, not many -- that is, if the respondents to\n",
    "be interviewed are selected entirely at random, giving every adult American an equal\n",
    "probability of falling into the sample. The current U.S. adult population in the continental\n",
    "United States is 187 million. The typical sample size for a Gallup poll, which is designed to\n",
    "represent this general population, is 1,000 national adults.\n",
    "\n",
    "The actual number of people that need to be interviewed for a given sample is to some degree\n",
    "less important than the soundness of the fundamental equal probability of selection principle.\n",
    "In other words -- although this is something many people find hard to believe -- if\n",
    "respondents are not selected randomly, we could have a poll with a million people and still be\n",
    "significantly less likely to represent the views of all Americans than a much smaller sample of just 1,000 people -- if that sample is selected randomly.\n",
    "\n",
    "To be sure, there is some gain in sampling accuracy that comes from increasing sample sizes.\n",
    "Common sense -- and sampling theory -- tell us that a sample of 1,000 people probably is\n",
    "going to be more accurate than a sample of 20. Surprisingly, however, once the survey\n",
    "sample gets to a size of 500, 600, 700 or more, there are fewer and fewer accuracy gains that\n",
    "come from increasing the sample size. Gallup and other major organizations use sample sizes\n",
    "of between 1,000 and 1,500 because they provide a solid balance of accuracy against the\n",
    "increased economic cost of larger and larger samples. If Gallup were to -- quite expensively -- use a sample of 4,000 randomly selected adults each time it did its poll, the increase in\n",
    "accuracy over and beyond a well-done sample of 1,000 would be minimal, and generally\n",
    "speaking, would not justify the increase in cost.\n",
    "Statisticians over the years have developed quite specific ways of measuring the accuracy of\n",
    "samples -- so long as the fundamental principle of equal probability of selection is adhered to when the sample is drawn.\n"
   ]
  },
  {
   "cell_type": "markdown",
   "metadata": {},
   "source": [
    "### The Interview Itself\n",
    "\n",
    "Once the computer has selected a phone number for inclusion into a sample, Gallup goes to\n",
    "extensive lengths to try to make contact with an adult American living in that household. \n",
    "\n",
    "> Why? What kind of bias is Gallup trying to correct for?\n",
    "\n",
    "In many instances, there is no answer or the number is busy on the first call. Instead of\n",
    "forgetting that number and going on to the next, Gallup typically stores the number in the\n",
    "computer where it comes back up to be recalled a few hours later, and then to be recalled\n",
    "again on subsequent nights of the survey period. This procedure corrects for a possible bias\n",
    "that could occur in if we included interviews only with people who answered the phone the first time we called their number. For example, people who are less likely to be at home, such as young single adults, or people who spend a lot of time on the phone, would have a lower\n",
    "probability of falling into the sample than an adult American who was always at home and\n",
    "rarely talked on his or her phone. The call-back procedure corrects for this possible bias. "
   ]
  },
  {
   "cell_type": "markdown",
   "metadata": {},
   "source": [
    "Once the household has been reached, Gallup attempts to assure that an individual within that\n",
    "household is selected randomly -- for those households that include more than one adult.\n",
    "There are several different procedures that Gallup has used through the years for this within\n",
    "household selection process. Gallup sometimes uses a shorthand method of asking for the\n",
    "adult with the latest birthday. In other surveys, Gallup asks the individual who answers the\n",
    "phone to list all adults in the home based on their age and gender, and Gallup selects\n",
    "randomly one of those adults to be interviewed. If the randomly selected adult is not home,\n",
    "Gallup would tell the person on the phone that they would need to call back and try to reach\n",
    "that individual at a later point in time. \n",
    "\n",
    "> This is called multistage sampling.  Where there are two samples occurring."
   ]
  },
  {
   "cell_type": "markdown",
   "metadata": {},
   "source": [
    "> Does this multistage sampling fully correct for a change units from defining by the individual and then initially selecting from a household?"
   ]
  },
  {
   "cell_type": "markdown",
   "metadata": {},
   "source": [
    "These procedures, while expensive and while not always possible in polls that are conducted in\n",
    "very short time periods, help to ensure that every adult American has an equal probability of\n",
    "falling into the sample. "
   ]
  },
  {
   "cell_type": "markdown",
   "metadata": {},
   "source": [
    "### The Questions\n",
    "\n",
    "The technical aspects of data collection are critically important, and if done poorly, can\n",
    "undermine the reliability of even a perfectly worded question. However, when it comes to\n",
    "modern-day attitude surveys conducted by most of the major national polling organizations,\n",
    "**question wording is probably the greatest source of bias and error in the data**, followed by question order. Writing a clear, unbiased question takes great care and discipline, as well as extensive knowledge about public opinion.\n",
    "\n",
    "Even such a seemingly simple thing as asking Americans whom they are going to vote for in a\n",
    "forthcoming election can be dependent on how the question is framed. For example, in a\n",
    "presidential race, the survey researcher can include the name of the vice presidential\n",
    "candidates along with the presidential candidate, or can just mention the presidential\n",
    "candidates' names. One can remind respondents of the party affiliation of each candidate\n",
    "when the question is read, or can mention the names of the candidates without any indication\n",
    "of their party. Gallup's rule in this situation is to ask the question in a way that mimics the voting experience as much as possible. We read the names of the presidential and vice\n",
    "presidential candidates, and mention the name of the party line on which they are running. All\n",
    "of this is information the voter would normally see when reading the ballot in the voting booth."
   ]
  },
  {
   "cell_type": "markdown",
   "metadata": {},
   "source": [
    "Questions about policy issues have an even greater range of wording options. Should we\n",
    "describe programs like food stamps and Section 8 housing grants as \"welfare\" or as \"programs\n",
    "for the poor\" when asking whether the public favors or opposes them? Should we identify the\n",
    "Clinton health care bill as health care \"reform\" or as \"an overhaul of the health care system\"\n",
    "when asking about congressional approval of the plan? When measuring support for the U.S.\n",
    "military presence in Bosnia should we say the United States is \"sending\" troops or \n",
    "\"contributing\" troops to the U.N.-sponsored mission there? Any of these wording choices could\n",
    "have a substantial impact on the levels of support recorded in the poll. "
   ]
  },
  {
   "cell_type": "markdown",
   "metadata": {},
   "source": [
    "For many of the public opinion areas covered in this book, Gallup is in the fortunate position of having a historical track record. Gallup has been conducting public opinion polls on public\n",
    "policy, presidential approval, approval of Congress, and key issues such as the death penalty,\n",
    "abortion, and gun control for many years. This gives Gallup the advantage of continuing a\n",
    "question in exactly the same way that it has been asked historically, which in turn provides a\n",
    "very precise measurement of trends. If the exact wording of a question is held constant from\n",
    "year to year, then substantial changes in how the American public responds to that question\n",
    "usually represent an underlying change in attitude. "
   ]
  },
  {
   "cell_type": "markdown",
   "metadata": {},
   "source": [
    "For new questions that don't have an exact analog in history, Gallup has to be more creative.\n",
    "In many instances, even though the question is not exactly the same, Gallup can follow the\n",
    "format that it has used for previous questions that have seemed to have worked out as\n",
    "objective measures. For instance, when Gallup was formulating the questions that it asked the\n",
    "public about the Persian Gulf War in 1990 and 1991, we were able to go back to questions\n",
    "that were asked during the Vietnam War and borrow their basic construction. Similarly, even\n",
    "though the issues and personalities change on the national political scene, we can use the\n",
    "same formats that have been utilized for previous presidents and political leaders to measure\n",
    "support for current leaders.\n",
    "\n",
    "One of the oldest question wordings which Gallup has in its inventory is presidential job\n",
    "approval. Since the days of Franklin Roosevelt, Gallup has been asking \"Do you approve or\n",
    "disapprove of the job (blank) is doing as president?\" That wording has stayed constant over\n",
    "the years, and provides a very reliable trend line for how Americans are reacting to their\n",
    "presidents. "
   ]
  },
  {
   "cell_type": "markdown",
   "metadata": {},
   "source": [
    "For brand new question areas, Gallup will often test several different wordings. Additionally, it is not uncommon for Gallup to ask several different questions about a content area of interest.\n",
    "Then in the analysis phase of a given survey, Gallup analysts can make note of the way\n",
    "Americans respond to different question wordings, presenting a more complete picture of the\n",
    "population's underlying attitudes.\n",
    "\n",
    "Through the years, Gallup has often used a split sample technique to measure the impact of\n",
    "different question wordings. A randomly selected half of a given survey is administered one\n",
    "wording of a question, while the other half is administered the other wording. This allows\n",
    "Gallup to compare the impact of differences in wordings of questions, and often to report out\n",
    "the results of both wordings, allowing those who are looking at the results of the poll to see\n",
    "the impact of nuances in ways of addressing key issues. "
   ]
  },
  {
   "cell_type": "markdown",
   "metadata": {},
   "source": [
    "### Conducting the Interview\n",
    "\n",
    "Most Gallup interviews are conducted by telephone from Gallup's regional interviewing centers\n",
    "around the country. Trained interviewers use computer-assisted telephone interviewing (CATI)\n",
    "technology, which brings the survey questions up on a computer monitor and allows\n",
    "questionnaires to be tailored to the specific responses given by the individual being\n",
    "interviewed. (If you answer, \"yes, I like pizza,\" the computer might be programmed to read,\n",
    "\"What is your favorite topping?\" as the next question.)\n",
    "\n",
    "The interviews are tabulated continuously and automatically by the computers. For a very\n",
    "short interview, such as Gallup conducted after the presidential debates in October 1996, the\n",
    "results can be made available immediately upon completion of the last interview.\n",
    "In most polls, once interviewing has been completed, the data are carefully checked and\n",
    "weighted before analysis begins. The weighting process is a statistical procedure by which the\n",
    "sample is checked against known population parameters to correct for any possible sampling \n",
    "biases on the basis of demographic variables such as age, gender, race, education, or region\n",
    "of country."
   ]
  },
  {
   "cell_type": "markdown",
   "metadata": {},
   "source": [
    "> Is this an example of stratified sampling?"
   ]
  },
  {
   "cell_type": "markdown",
   "metadata": {},
   "source": [
    "Once the data have been weighted, the results are tabulated by computer programs that not\n",
    "only show how the total sample responded to each question, but also break out the sample by\n",
    "relevant variables. In Gallup's presidential polling in 1996, for example, the presidential vote question is looked at by political party, age, gender, race, region of the country, religious affiliation and other variables. "
   ]
  },
  {
   "cell_type": "markdown",
   "metadata": {},
   "source": [
    "### Interpreting the Results\n",
    "\n",
    "There are several standard caveats to observe when interpreting poll results. Primary among\n",
    "these are issues discussed in this chapter: question wording, question order, the sample\n",
    "population, the sample size, the random selection technique used in creating the sampling\n",
    "frame, the execution of the sample (including the number calls backs and length of the field\n",
    "period) and the method of interviewing (in person vs. telephone vs. mail).\n",
    "\n",
    "Anyone using the Gallup Poll can do so with assurance that the data were obtained with\n",
    "extremely careful and reliable sampling and interviewing methods. Gallup's intent is always to\n",
    "be fair and objective when writing questions and constructing questionnaires. The original\n",
    "mission of polling was to amplify the voice of the public, not distort it, and we continue to be inspired by that mission.\n",
    "\n",
    "With those assurances in mind, the outside observer or researcher should dive into poll data\n",
    "with a critical mind. Interpretation of survey research results is most importantly dependent\n",
    "on context. What the American public may say about an issue is most valuable when it can be\n",
    "compared to other current questions or to questions asked across time. Where trend data\n",
    "exist, one should also look at changes over time and determine whether these changes are\n",
    "significant and important. \n",
    "\n",
    "Let's say, for example, that Bill Clinton has a job approval rating of 48%. Is this a good rating or a poor rating? The best way to tell is to look at history for\n",
    "context: compare it to Clinton's ratings throughout the rest of his presidency, then compare it to approval ratings for previous presidents. Did previous presidents with this rating at the equivalent point in time tend to get re-elected or not? Then it can be compared to approval ratings of Congress, of the Republican and Democratic congressional leaders.\n",
    "Gallup generally provides written analysis of our own polling data. But we also provide ample\n",
    "opportunity for the press, other pollsters, students, professors and the general public to draw their own conclusions about what the data mean. \n",
    "\n",
    "The results to all Gallup surveys are in the \"public domain\" - once they have been publicly released by us, anyone who chooses may pick up the information and write about it themselves. The survey results are regularly published in the major media, in the Gallup Poll Monthly, and on several electronic information services such as Nexus, the Roper Center and the Internet. We also make the raw data available to\n",
    "researchers who want to perform more complex statistical analysis. In addition to the exact\n",
    "question wordings and current results, Gallup reports trend results to all questions that have\n",
    "been asked previously so that even the casual observer can review the current results in\n",
    "context with public opinion in the past.\n",
    "\n",
    "The key concept to bear in mind when analyzing poll data is that public opinion on a given\n",
    "topic cannot be understood by using only a single poll question asked a single time. It is\n",
    "necessary to measure opinion along several different dimensions, to review attitudes based on\n",
    "a variety of different wordings, to verify findings on the basis of multiple askings, and to pay attention to changes in opinion over time. "
   ]
  },
  {
   "cell_type": "markdown",
   "metadata": {},
   "source": [
    "### Resources\n",
    "\n",
    "[How are Polls Conducted](https://media.gallup.com/PDF/FAQ/HowArePolls.pdf)"
   ]
  },
  {
   "cell_type": "markdown",
   "metadata": {},
   "source": [
    "[538 Model Guide](https://fivethirtyeight.com/features/a-users-guide-to-fivethirtyeights-2016-general-election-forecast/)"
   ]
  }
 ],
 "metadata": {
  "kernelspec": {
   "display_name": "Python 3",
   "language": "python",
   "name": "python3"
  },
  "language_info": {
   "codemirror_mode": {
    "name": "ipython",
    "version": 3
   },
   "file_extension": ".py",
   "mimetype": "text/x-python",
   "name": "python",
   "nbconvert_exporter": "python",
   "pygments_lexer": "ipython3",
   "version": "3.7.4"
  }
 },
 "nbformat": 4,
 "nbformat_minor": 4
}
