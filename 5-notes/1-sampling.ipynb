{
 "cells": [
  {
   "cell_type": "markdown",
   "metadata": {},
   "source": [
    "# Sampling"
   ]
  },
  {
   "cell_type": "markdown",
   "metadata": {},
   "source": [
    "> Many of the most egregious statistical assertions are caused by good statistical methods applied to bad samples, not the opposite.\n",
    "\n",
    "> Some of the most egregious statistical mistakes involve lying with data; the statistical analysis is fine, but the data is bogus.\n",
    "- Naked Statistics"
   ]
  },
  {
   "cell_type": "markdown",
   "metadata": {},
   "source": [
    "### Introduction"
   ]
  },
  {
   "cell_type": "markdown",
   "metadata": {},
   "source": [
    "In previous lessons, we looked at statistics from the entire NBA, and from there, calculated summary statistics of different variables like height or weight.  In this lesson, we'll see how we can use sampling as an alternative to exploring data for an entire population.  "
   ]
  },
  {
   "cell_type": "markdown",
   "metadata": {},
   "source": [
    "### Population and Sampling"
   ]
  },
  {
   "cell_type": "markdown",
   "metadata": {},
   "source": [
    "Remember that in statistics, we define a **population** to be the collection of people, animals, locations that the study is focused on.  \n",
    "\n",
    "1. Select a representive subset of the population and then\n",
    "2. From that sample, draw inferences about the rest of the population   "
   ]
  },
  {
   "cell_type": "markdown",
   "metadata": {},
   "source": [
    "The ideal is for a *simple random sample* of the population.\n",
    "\n",
    "> A  **Simple Random Sample** (SRS) is where every item in the population has an equal chance of being selected and enrolled in the survey."
   ]
  },
  {
   "cell_type": "markdown",
   "metadata": {},
   "source": [
    "### Sampling Procedure"
   ]
  },
  {
   "cell_type": "markdown",
   "metadata": {},
   "source": [
    "1. Define the population \n",
    "\n",
    "* What population is of interest in the study\n",
    "    * Think of the boundaries\n",
    "* the **unit of analysis**, that is, are we looking to gather information on students, classrooms, or schools\n"
   ]
  },
  {
   "cell_type": "markdown",
   "metadata": {},
   "source": [
    "2. Find a sampling frame \n",
    "> A **Sampling Frame** is the source material or device from which a sample is drawn.\n",
    "\n",
    "* This is what we're sampling from \n",
    "*  electoral register, a student or phone directory, or homeowner lists.  \n",
    "* American Psychological Association, the American Medical Association or business registration lists."
   ]
  },
  {
   "cell_type": "markdown",
   "metadata": {},
   "source": [
    "3. Random Selection"
   ]
  },
  {
   "cell_type": "code",
   "execution_count": 5,
   "metadata": {},
   "outputs": [],
   "source": [
    "from numpy import random"
   ]
  },
  {
   "cell_type": "code",
   "execution_count": 10,
   "metadata": {},
   "outputs": [
    {
     "data": {
      "text/plain": [
       "array([442, 534, 171, 945, 735, 662, 793, 988, 405, 550, 596, 659, 854,\n",
       "       465, 843, 151, 488, 732, 240,  46, 288,  44, 185, 575, 738, 165,\n",
       "       574, 112, 600, 790, 471,   8, 532, 225, 184, 163, 390, 139, 567,\n",
       "       930, 158, 124, 694, 951, 385, 417, 418, 994, 380, 355, 237, 962,\n",
       "       461, 492, 378,  74, 868, 340, 216, 297, 970, 630, 906, 212, 638,\n",
       "       649, 781, 746, 974, 207, 361, 910, 610, 117, 165, 121, 597, 935,\n",
       "        45, 785, 554, 478, 460, 603, 135, 948, 117,  86,  57, 655, 521,\n",
       "       647, 203, 224, 937, 947,  59, 521, 625,  99])"
      ]
     },
     "execution_count": 10,
     "metadata": {},
     "output_type": "execute_result"
    }
   ],
   "source": [
    "random.randint(0, 1000, 100)"
   ]
  },
  {
   "cell_type": "markdown",
   "metadata": {},
   "source": [
    "4. Seek responses/enrollment"
   ]
  },
  {
   "cell_type": "markdown",
   "metadata": {},
   "source": [
    "5. Data Collection\n"
   ]
  },
  {
   "cell_type": "markdown",
   "metadata": {},
   "source": [
    "### An example and some questions"
   ]
  },
  {
   "cell_type": "markdown",
   "metadata": {},
   "source": [
    "Let's say that we want to find the amount that individuals exercise in the week in a local town.  To do so, we get a phone book from the town, and randomly select individuals from the phone book.  That evening, we go one by one through our selected individuals, and call each individual to ask how many hours per week they spend at the gym, on average.  Whoever answers the phone, we write the information down.\n",
    "\n",
    "* What are some of the issues with the way the survey was conducted?  "
   ]
  },
  {
   "cell_type": "code",
   "execution_count": null,
   "metadata": {},
   "outputs": [],
   "source": []
  },
  {
   "cell_type": "markdown",
   "metadata": {},
   "source": [
    "* As a checklist, consider every step of the survey.  What could have gone wrong at each step? (Not all steps were done poorly, but it's still good to consider them all)."
   ]
  },
  {
   "cell_type": "code",
   "execution_count": null,
   "metadata": {},
   "outputs": [],
   "source": []
  },
  {
   "cell_type": "markdown",
   "metadata": {},
   "source": [
    "Is there further information you would like to know about how the survey was collected?  "
   ]
  },
  {
   "cell_type": "code",
   "execution_count": null,
   "metadata": {},
   "outputs": [],
   "source": []
  },
  {
   "cell_type": "markdown",
   "metadata": {},
   "source": [
    "How could you improve the survey?"
   ]
  },
  {
   "cell_type": "code",
   "execution_count": null,
   "metadata": {},
   "outputs": [],
   "source": []
  },
  {
   "cell_type": "markdown",
   "metadata": {},
   "source": [
    "### Summary\n",
    "\n",
    "In this last lesson, we learned about sampling.  We use sampling because it is often too costly to collect information on the population in question.  Ideally, we collect a simple random sample.  A simple random sample is where every item in the population has an equal chance of being selected and enrolled in the survey.\n",
    "\n",
    "We then spoke about the process of sampling, which involves (1) defining the population and units of measurement (2) finding a sampling frame (3) randomly selecting from our sampling frame (4) enrollment and (5) data collection."
   ]
  },
  {
   "cell_type": "markdown",
   "metadata": {},
   "source": [
    "### Resources\n",
    "\n",
    "* [Sampling Techniques - UCA](https://uca.edu/psychology/files/2013/08/Ch7-Sampling-Techniques.pdf)\n",
    "* [Sampling Poverty Action Lab - Duflo](https://www.povertyactionlab.org/sites/default/files/documents/Using%20Randomization%20in%20Development%20Economics.pdf)\n",
    "* [Sampling Wikipedia](https://en.wikipedia.org/wiki/Sampling_(statistics))\n",
    "\n",
    "* [Sampling in RCTs](https://bpspubs.onlinelibrary.wiley.com/doi/pdf/10.1111/j.1365-2125.1982.tb01429.)\n"
   ]
  }
 ],
 "metadata": {
  "kernelspec": {
   "display_name": "Python 3",
   "language": "python",
   "name": "python3"
  },
  "language_info": {
   "codemirror_mode": {
    "name": "ipython",
    "version": 3
   },
   "file_extension": ".py",
   "mimetype": "text/x-python",
   "name": "python",
   "nbconvert_exporter": "python",
   "pygments_lexer": "ipython3",
   "version": "3.7.4"
  }
 },
 "nbformat": 4,
 "nbformat_minor": 4
}
