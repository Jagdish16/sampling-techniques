{
 "cells": [
  {
   "cell_type": "markdown",
   "metadata": {},
   "source": [
    "# Biases Notes"
   ]
  },
  {
   "cell_type": "markdown",
   "metadata": {},
   "source": [
    "### Understanding Bias"
   ]
  },
  {
   "cell_type": "markdown",
   "metadata": {},
   "source": [
    "> **Statistical bias** is a feature of a statistical technique whereby the expected value of the results differs from the true underlying quantitative parameter being estimated. "
   ]
  },
  {
   "cell_type": "markdown",
   "metadata": {},
   "source": [
    "<img src=\"./bias-variance.png\" width=\"40%\">"
   ]
  },
  {
   "cell_type": "markdown",
   "metadata": {},
   "source": [
    "### Common Biases"
   ]
  },
  {
   "cell_type": "markdown",
   "metadata": {},
   "source": [
    "Now let's go through the process of sampling again, this time seeing some of the ways that bias can creep up along the way."
   ]
  },
  {
   "cell_type": "markdown",
   "metadata": {},
   "source": [
    "> We want to find the amount that individuals exercise in the week in a local town.  To do so, we get a phone book from the town, and random select individuals from the phone book.  That evening, we go one by one through our selected individuals, and call each individual to ask how many hours per week they spend at the gym, on average.  Whoever answers the phone, we write the information down."
   ]
  },
  {
   "cell_type": "markdown",
   "metadata": {},
   "source": [
    "1. Selection bias\n",
    "\n",
    "> **Selection Bias** - is the sampling frame representative?"
   ]
  },
  {
   "cell_type": "markdown",
   "metadata": {},
   "source": [
    "2. Random Selection"
   ]
  },
  {
   "cell_type": "markdown",
   "metadata": {},
   "source": [
    "In the above example, if we used a random number generator, like the one available in Numpy, then our random selection process is fine.  "
   ]
  },
  {
   "cell_type": "markdown",
   "metadata": {},
   "source": [
    "3. Enrolling selected individuals"
   ]
  },
  {
   "cell_type": "markdown",
   "metadata": {},
   "source": [
    "> **Non-response bias** is when participants' decision to participate may be correlated with traits that affect the study.  It's possible whenever the group of people being studied has any form of control over whether to participate. "
   ]
  },
  {
   "cell_type": "markdown",
   "metadata": {},
   "source": [
    "> **drop out** bias"
   ]
  },
  {
   "cell_type": "markdown",
   "metadata": {},
   "source": [
    "4. Collecting Results"
   ]
  },
  {
   "cell_type": "markdown",
   "metadata": {},
   "source": [
    "* **Reporting bias** arises due to differences in the accuracy or completeness of participant recollections of past events. \n",
    "\n",
    "\n",
    "\n",
    "* **Miscoded Information** \n",
    "    * When information improperly recorded\n",
    "    * With automated data collection"
   ]
  },
  {
   "cell_type": "markdown",
   "metadata": {},
   "source": [
    "* **Juking the Stats** "
   ]
  },
  {
   "cell_type": "markdown",
   "metadata": {},
   "source": [
    "Lot's of times, the collection of information is tied to an incentive, or evaluation of performance.  In these cases, the participant may use ways to boost the statistic, *while what the statistic is trying to measure*, is unchanged.\n",
    "\n",
    "\n",
    "An example in College Admissions, is a [WSJ Article](https://www.wsj.com/articles/for-sale-sat-takers-names-colleges-buy-student-data-and-boost-exclusivity-11572976621) suggesting Universities incentivize more applications to boost selectivity numbers.  "
   ]
  },
  {
   "cell_type": "markdown",
   "metadata": {},
   "source": [
    "### Resources\n",
    "\n",
    "\n",
    "* [Bias Wikipedia](https://en.wikipedia.org/wiki/Bias_(statistics))\n",
    "* [PSU samples](https://online.stat.psu.edu/stat100/lesson/2/2.4)\n",
    "\n",
    "* [Bad samples](https://www.aapor.org/Education-Resources/For-Researchers/Poll-Survey-FAQ/Bad-Samples.aspx)\n",
    "\n",
    "* [Biased samples](https://web.ma.utexas.edu/users/mks/statmistakes/biasedsampling.html)"
   ]
  }
 ],
 "metadata": {
  "kernelspec": {
   "display_name": "Python 3",
   "language": "python",
   "name": "python3"
  },
  "language_info": {
   "codemirror_mode": {
    "name": "ipython",
    "version": 3
   },
   "file_extension": ".py",
   "mimetype": "text/x-python",
   "name": "python",
   "nbconvert_exporter": "python",
   "pygments_lexer": "ipython3",
   "version": "3.7.4"
  }
 },
 "nbformat": 4,
 "nbformat_minor": 4
}
