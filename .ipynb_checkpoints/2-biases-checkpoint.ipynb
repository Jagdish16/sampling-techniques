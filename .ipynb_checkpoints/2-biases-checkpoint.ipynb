{
 "cells": [
  {
   "cell_type": "markdown",
   "metadata": {},
   "source": [
    "# Biases"
   ]
  },
  {
   "cell_type": "markdown",
   "metadata": {},
   "source": [
    "### Introduction"
   ]
  },
  {
   "cell_type": "markdown",
   "metadata": {},
   "source": [
    "In the last lesson, we learned about sampling.  We use sampling because it is often too costly to collect information on the population in question.  We aim for a simple random sample, which is where each member of the population has an equal chance of being selected.  \n",
    "\n",
    "Then, we went on to describe the sampling process, whereby we define a population, choose a sampling frame, randomly select from our sampling frame, enroll individuals, and collect our information.\n",
    "\n",
    "In this lesson, we'll see how mistakes can be made at every stage of the process, resulting in bias."
   ]
  },
  {
   "cell_type": "markdown",
   "metadata": {},
   "source": [
    "### Understanding Bias"
   ]
  },
  {
   "cell_type": "markdown",
   "metadata": {},
   "source": [
    "> **Statistical bias** is a feature of a statistical technique whereby the expected value of the results differs from the true underlying quantitative parameter being estimated. "
   ]
  },
  {
   "cell_type": "markdown",
   "metadata": {},
   "source": [
    "Let's see this with our gym example.  Imagine that instead of randomly calling individuals, we simply walked up to those at the gym.  If we used this to estimate how often the town's residents go to the gym, our sample would be biased."
   ]
  },
  {
   "cell_type": "markdown",
   "metadata": {},
   "source": [
    "It's biased, because even if we increased the size of our sample, *our collected data would still differ* from the underlying population.  Here's a common way of thinking about bias."
   ]
  },
  {
   "cell_type": "markdown",
   "metadata": {},
   "source": [
    "<img src=\"./bias-variance.png\" width=\"40%\">"
   ]
  },
  {
   "cell_type": "markdown",
   "metadata": {},
   "source": [
    "In each of the four targets above, the gray bullseye represents the midpoint of the broader population.  The clusters of green dots are our members of the population that we sample.\n",
    "\n",
    "Now, with our biased survey we describe above, we'll be at the bullseye on the bottom left.  That is, even if we select a lot of survey participants, on average, we'll be selecting participants that tend to be exercise, thus biasing our survey results, and therefore we would not find sample representative of the underlying population."
   ]
  },
  {
   "cell_type": "markdown",
   "metadata": {},
   "source": [
    "### Common Biases"
   ]
  },
  {
   "cell_type": "markdown",
   "metadata": {},
   "source": [
    "Now let's go through the process of sampling again, this time seeing some of the ways that bias can creep up along the way."
   ]
  },
  {
   "cell_type": "markdown",
   "metadata": {},
   "source": [
    "> We want to find the amount that individuals exercise in the week in a local town.  To do so, we get a phone book from the town, and random select individuals from the phone book.  That evening, we go one by one through our selected individuals, and call each individual to ask how many hours per week they spend exercising, on average.  Whoever answers the phone, we write the information down."
   ]
  },
  {
   "cell_type": "markdown",
   "metadata": {},
   "source": [
    "1. Selection bias\n",
    "\n",
    "Remember that our first step, after defining the population, is to find a sampling frame.  But with our technique above, those listed in the phone book may be different than the broader population (eg. older, long-time residents).  \n",
    "\n",
    "This is an example of selection bias.\n",
    "\n",
    "> **Selection Bias** occurs if we do not use a sampling frame representative of the population or a sampling technique that selects a representative subset."
   ]
  },
  {
   "cell_type": "markdown",
   "metadata": {},
   "source": [
    "So because those in the phone book may be older than the broader population, we could be selecting indivduals that don't tend to be like the rest of the population."
   ]
  },
  {
   "cell_type": "markdown",
   "metadata": {},
   "source": [
    "2. Random Selection"
   ]
  },
  {
   "cell_type": "markdown",
   "metadata": {},
   "source": [
    "In the above example, if we used a random number generator, like the one available in Numpy, then our random selection process is fine.  "
   ]
  },
  {
   "cell_type": "markdown",
   "metadata": {},
   "source": [
    "3. Enrolling selected individuals"
   ]
  },
  {
   "cell_type": "markdown",
   "metadata": {},
   "source": [
    "The enrollment process above is subject to non-response bias.\n",
    "\n",
    "* Those who do not pick up the phone may be different than those who do (perhaps they are more busy, work late, or screen calls).  \n",
    "* Those who pick up the phone but choose not to participate may be different than those who do (non-frequent exercisers may be less likely to participate.)\n",
    "\n",
    "> **Non-response bias** is when participants' decision to participate may be correlated with traits that affect the study.  It's possible whenever the group of people being studied has any form of control over whether to participate. "
   ]
  },
  {
   "cell_type": "markdown",
   "metadata": {},
   "source": [
    "Note that for longer term, or longitudinal studies those who **drop out** of the study may be different than those who continue to participate."
   ]
  },
  {
   "cell_type": "markdown",
   "metadata": {},
   "source": [
    "4. Collecting Results"
   ]
  },
  {
   "cell_type": "markdown",
   "metadata": {},
   "source": [
    "Even after getting individuals to participate in the study, we are still subject to bias.\n",
    "\n",
    "* **Reporting bias** arises due to differences in the accuracy or completeness of participant recollections of past events. \n",
    "\n",
    "For example above, here, individuals may overestimate how often they go to the gym.\n",
    "\n",
    "* **Miscoded Information** Occurs when information is improperly recorded, for example if our researcher mistypes the information.  Or with automated data collection, one of the machines may simply break or misrecord information."
   ]
  },
  {
   "cell_type": "markdown",
   "metadata": {},
   "source": [
    "* **Juking the Stats** "
   ]
  },
  {
   "cell_type": "markdown",
   "metadata": {},
   "source": [
    "Lot's of times, the collection of information is tied to an incentive, or evaluation of performance.  In these cases, the participant may use ways to boost the statistic, *while what the statistic is trying to measure*, is unchanged.\n",
    "\n",
    "In education, you may have heared this as teaching to the test.  It occurs if say, a teacher is able to boost a student's scores, without substantially increasing their knowledge of the underlying material.\n",
    "\n",
    "An example in College Admissions, is a [WSJ Article](https://www.wsj.com/articles/for-sale-sat-takers-names-colleges-buy-student-data-and-boost-exclusivity-11572976621) suggesting Universities incentivize more applications to boost selectivity numbers.  "
   ]
  },
  {
   "cell_type": "markdown",
   "metadata": {},
   "source": [
    "### Resources\n",
    "\n",
    "\n",
    "* [Bias Wikipedia](https://en.wikipedia.org/wiki/Bias_(statistics))\n",
    "* [PSU samples](https://online.stat.psu.edu/stat100/lesson/2/2.4)\n",
    "\n",
    "* [Bad samples](https://www.aapor.org/Education-Resources/For-Researchers/Poll-Survey-FAQ/Bad-Samples.aspx)\n",
    "\n",
    "* [Biased samples](https://web.ma.utexas.edu/users/mks/statmistakes/biasedsampling.html)"
   ]
  },
  {
   "cell_type": "markdown",
   "metadata": {},
   "source": [
    "For cognitive biases see [cognitive biases wiki](https://en.wikipedia.org/wiki/List_of_cognitive_biases)."
   ]
  }
 ],
 "metadata": {
  "kernelspec": {
   "display_name": "Python 3",
   "language": "python",
   "name": "python3"
  },
  "language_info": {
   "codemirror_mode": {
    "name": "ipython",
    "version": 3
   },
   "file_extension": ".py",
   "mimetype": "text/x-python",
   "name": "python",
   "nbconvert_exporter": "python",
   "pygments_lexer": "ipython3",
   "version": "3.7.4"
  }
 },
 "nbformat": 4,
 "nbformat_minor": 4
}
