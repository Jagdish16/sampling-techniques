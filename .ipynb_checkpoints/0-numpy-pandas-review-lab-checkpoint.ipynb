{
 "cells": [
  {
   "cell_type": "markdown",
   "metadata": {},
   "source": [
    "# Numpy and Pandas Review"
   ]
  },
  {
   "cell_type": "markdown",
   "metadata": {},
   "source": [
    "### Introduction"
   ]
  },
  {
   "cell_type": "markdown",
   "metadata": {},
   "source": [
    "In this lesson, we'll work through some problems with our spotify dataset to practice pandas and numpy skills."
   ]
  },
  {
   "cell_type": "markdown",
   "metadata": {},
   "source": [
    "Let's load up our data."
   ]
  },
  {
   "cell_type": "code",
   "execution_count": 2,
   "metadata": {},
   "outputs": [],
   "source": [
    "import pandas as pd\n",
    "\n",
    "url = \"gs://curriculum-assets/mod-2/spotify.csv\"\n",
    "df = pd.read_csv(url, encoding = 'ISO-8859-1', index_col = 0)"
   ]
  },
  {
   "cell_type": "code",
   "execution_count": 3,
   "metadata": {},
   "outputs": [],
   "source": [
    "import numpy as np\n",
    "songs_np = df.to_numpy()"
   ]
  },
  {
   "cell_type": "markdown",
   "metadata": {},
   "source": [
    "### Selecting Data"
   ]
  },
  {
   "cell_type": "code",
   "execution_count": 52,
   "metadata": {},
   "outputs": [
    {
     "data": {
      "text/html": [
       "<div>\n",
       "<style scoped>\n",
       "    .dataframe tbody tr th:only-of-type {\n",
       "        vertical-align: middle;\n",
       "    }\n",
       "\n",
       "    .dataframe tbody tr th {\n",
       "        vertical-align: top;\n",
       "    }\n",
       "\n",
       "    .dataframe thead th {\n",
       "        text-align: right;\n",
       "    }\n",
       "</style>\n",
       "<table border=\"1\" class=\"dataframe\">\n",
       "  <thead>\n",
       "    <tr style=\"text-align: right;\">\n",
       "      <th></th>\n",
       "      <th>title</th>\n",
       "      <th>artist</th>\n",
       "      <th>top genre</th>\n",
       "      <th>year</th>\n",
       "      <th>bpm</th>\n",
       "      <th>nrgy</th>\n",
       "      <th>dnce</th>\n",
       "      <th>dB</th>\n",
       "      <th>live</th>\n",
       "      <th>val</th>\n",
       "      <th>dur</th>\n",
       "      <th>acous</th>\n",
       "      <th>spch</th>\n",
       "      <th>pop</th>\n",
       "    </tr>\n",
       "  </thead>\n",
       "  <tbody>\n",
       "    <tr>\n",
       "      <th>1</th>\n",
       "      <td>Hey, Soul Sister</td>\n",
       "      <td>Train</td>\n",
       "      <td>neo mellow</td>\n",
       "      <td>2010</td>\n",
       "      <td>97</td>\n",
       "      <td>89</td>\n",
       "      <td>67</td>\n",
       "      <td>-4</td>\n",
       "      <td>8</td>\n",
       "      <td>80</td>\n",
       "      <td>217</td>\n",
       "      <td>19</td>\n",
       "      <td>4</td>\n",
       "      <td>83</td>\n",
       "    </tr>\n",
       "    <tr>\n",
       "      <th>2</th>\n",
       "      <td>Love The Way You Lie</td>\n",
       "      <td>Eminem</td>\n",
       "      <td>detroit hip hop</td>\n",
       "      <td>2010</td>\n",
       "      <td>87</td>\n",
       "      <td>93</td>\n",
       "      <td>75</td>\n",
       "      <td>-5</td>\n",
       "      <td>52</td>\n",
       "      <td>64</td>\n",
       "      <td>263</td>\n",
       "      <td>24</td>\n",
       "      <td>23</td>\n",
       "      <td>82</td>\n",
       "    </tr>\n",
       "    <tr>\n",
       "      <th>3</th>\n",
       "      <td>TiK ToK</td>\n",
       "      <td>Kesha</td>\n",
       "      <td>dance pop</td>\n",
       "      <td>2010</td>\n",
       "      <td>120</td>\n",
       "      <td>84</td>\n",
       "      <td>76</td>\n",
       "      <td>-3</td>\n",
       "      <td>29</td>\n",
       "      <td>71</td>\n",
       "      <td>200</td>\n",
       "      <td>10</td>\n",
       "      <td>14</td>\n",
       "      <td>80</td>\n",
       "    </tr>\n",
       "  </tbody>\n",
       "</table>\n",
       "</div>"
      ],
      "text/plain": [
       "                  title  artist        top genre  year  bpm  nrgy  dnce  dB  \\\n",
       "1      Hey, Soul Sister   Train       neo mellow  2010   97    89    67  -4   \n",
       "2  Love The Way You Lie  Eminem  detroit hip hop  2010   87    93    75  -5   \n",
       "3               TiK ToK   Kesha        dance pop  2010  120    84    76  -3   \n",
       "\n",
       "   live  val  dur  acous  spch  pop  \n",
       "1     8   80  217     19     4   83  \n",
       "2    52   64  263     24    23   82  \n",
       "3    29   71  200     10    14   80  "
      ]
     },
     "execution_count": 52,
     "metadata": {},
     "output_type": "execute_result"
    }
   ],
   "source": [
    "df[:3]"
   ]
  },
  {
   "cell_type": "markdown",
   "metadata": {},
   "source": [
    "Begin by using numpy to select all songs of the genre dance pop."
   ]
  },
  {
   "cell_type": "code",
   "execution_count": 7,
   "metadata": {},
   "outputs": [],
   "source": [
    "dance_pop_np = None"
   ]
  },
  {
   "cell_type": "code",
   "execution_count": 9,
   "metadata": {},
   "outputs": [],
   "source": [
    "dance_pop_np[:3]\n",
    "\n",
    "# array([['TiK ToK', 'Kesha', 'dance pop', 2010, 120, 84, 76, -3, 29, 71,\n",
    "#         200, 10, 14, 80],\n",
    "#        ['Bad Romance', 'Lady Gaga', 'dance pop', 2010, 119, 92, 70, -4,\n",
    "#         8, 71, 295, 0, 4, 79],\n",
    "#        ['Dynamite', 'Taio Cruz', 'dance pop', 2010, 120, 78, 75, -4, 4,\n",
    "#         82, 203, 0, 9, 77]], dtype=object)"
   ]
  },
  {
   "cell_type": "markdown",
   "metadata": {},
   "source": [
    "Then use pandas to select the valence scores of the first five rows.  Do so first using `iloc` and then `loc`."
   ]
  },
  {
   "cell_type": "code",
   "execution_count": 11,
   "metadata": {},
   "outputs": [],
   "source": [
    "first_five_val_iloc = None\n",
    "first_five_val_iloc\n",
    "# 1    80\n",
    "# 2    64\n",
    "# 3    71\n",
    "# 4    71\n",
    "# 5    43\n",
    "# Name: val, dtype: int64"
   ]
  },
  {
   "cell_type": "code",
   "execution_count": 12,
   "metadata": {},
   "outputs": [],
   "source": [
    "first_five_val_loc = None\n",
    "first_five_val_loc\n",
    "# 1    80\n",
    "# 2    64\n",
    "# 3    71\n",
    "# 4    71\n",
    "# 5    43\n",
    "# Name: val, dtype: int64"
   ]
  },
  {
   "cell_type": "markdown",
   "metadata": {},
   "source": [
    "Next without using loc, or iloc, select only the `title` and  `artist` columns."
   ]
  },
  {
   "cell_type": "code",
   "execution_count": 14,
   "metadata": {},
   "outputs": [],
   "source": [
    "songs_artists_df = None"
   ]
  },
  {
   "cell_type": "code",
   "execution_count": 16,
   "metadata": {},
   "outputs": [
    {
     "data": {
      "text/html": [
       "<div>\n",
       "<style scoped>\n",
       "    .dataframe tbody tr th:only-of-type {\n",
       "        vertical-align: middle;\n",
       "    }\n",
       "\n",
       "    .dataframe tbody tr th {\n",
       "        vertical-align: top;\n",
       "    }\n",
       "\n",
       "    .dataframe thead th {\n",
       "        text-align: right;\n",
       "    }\n",
       "</style>\n",
       "<table border=\"1\" class=\"dataframe\">\n",
       "  <thead>\n",
       "    <tr style=\"text-align: right;\">\n",
       "      <th></th>\n",
       "      <th>title</th>\n",
       "      <th>artist</th>\n",
       "    </tr>\n",
       "  </thead>\n",
       "  <tbody>\n",
       "    <tr>\n",
       "      <th>1</th>\n",
       "      <td>Hey, Soul Sister</td>\n",
       "      <td>Train</td>\n",
       "    </tr>\n",
       "    <tr>\n",
       "      <th>2</th>\n",
       "      <td>Love The Way You Lie</td>\n",
       "      <td>Eminem</td>\n",
       "    </tr>\n",
       "    <tr>\n",
       "      <th>3</th>\n",
       "      <td>TiK ToK</td>\n",
       "      <td>Kesha</td>\n",
       "    </tr>\n",
       "  </tbody>\n",
       "</table>\n",
       "</div>"
      ],
      "text/plain": [
       "                  title  artist\n",
       "1      Hey, Soul Sister   Train\n",
       "2  Love The Way You Lie  Eminem\n",
       "3               TiK ToK   Kesha"
      ]
     },
     "execution_count": 16,
     "metadata": {},
     "output_type": "execute_result"
    }
   ],
   "source": [
    "songs_artists_df[:3]\n",
    "\n",
    "# title\tartist\n",
    "# 1\tHey, Soul Sister\tTrain\n",
    "# 2\tLove The Way You Lie\tEminem\n",
    "# 3\tTiK ToK\tKesha"
   ]
  },
  {
   "cell_type": "markdown",
   "metadata": {},
   "source": [
    "Select the rows where all val, acous, and pop have scores above 55."
   ]
  },
  {
   "cell_type": "code",
   "execution_count": 34,
   "metadata": {},
   "outputs": [],
   "source": [
    "good_scores_df = None\n",
    "\n",
    "good_scores_df\n",
    "\n",
    "# \ttitle\tartist\ttop genre\tyear\tbpm\tnrgy\tdnce\tdB\tlive\tval\tdur\tacous\tspch\tpop\n",
    "# 280\tWhat Do You Mean?\tJustin Bieber\tcanadian pop\t2015\t125\t57\t85\t-8\t8\t79\t206\t59\t10\t79\n",
    "# 310\tTrumpets\tJason Derulo\tdance pop\t2015\t82\t70\t63\t-5\t10\t64\t217\t56\t24\t69\n",
    "# 330\tWhat Do You Mean? - Acoustic\tJustin Bieber\tcanadian pop\t2015\t125\t36\t77\t-11\t10\t76\t204\t79\t4\t64\n",
    "# 444\tShape of You\tEd Sheeran\tpop\t2017\t96\t65\t83\t-3\t9\t93\t234\t58\t8\t87\n",
    "# 560\tWalk On Water (feat. Beyoncé)\tEminem\tdetroit hip hop\t2018\t82\t44\t48\t-10\t64\t62\t304\t81\t24\t65\n",
    "# 573\tMemories\tMaroon 5\tpop\t2019\t91\t32\t76\t-7\t8\t57\t189\t84\t5\t99"
   ]
  },
  {
   "cell_type": "markdown",
   "metadata": {},
   "source": [
    "### Sorting Data"
   ]
  },
  {
   "cell_type": "markdown",
   "metadata": {},
   "source": [
    "Begin by using pandas to sort all of the rows by the `dnce` score, from highest to lowest."
   ]
  },
  {
   "cell_type": "code",
   "execution_count": 12,
   "metadata": {},
   "outputs": [],
   "source": [
    "most_dancey = None"
   ]
  },
  {
   "cell_type": "code",
   "execution_count": 13,
   "metadata": {},
   "outputs": [
    {
     "data": {
      "text/html": [
       "<div>\n",
       "<style scoped>\n",
       "    .dataframe tbody tr th:only-of-type {\n",
       "        vertical-align: middle;\n",
       "    }\n",
       "\n",
       "    .dataframe tbody tr th {\n",
       "        vertical-align: top;\n",
       "    }\n",
       "\n",
       "    .dataframe thead th {\n",
       "        text-align: right;\n",
       "    }\n",
       "</style>\n",
       "<table border=\"1\" class=\"dataframe\">\n",
       "  <thead>\n",
       "    <tr style=\"text-align: right;\">\n",
       "      <th></th>\n",
       "      <th>title</th>\n",
       "      <th>artist</th>\n",
       "      <th>top genre</th>\n",
       "      <th>year</th>\n",
       "      <th>bpm</th>\n",
       "      <th>nrgy</th>\n",
       "      <th>dnce</th>\n",
       "      <th>dB</th>\n",
       "      <th>live</th>\n",
       "      <th>val</th>\n",
       "      <th>dur</th>\n",
       "      <th>acous</th>\n",
       "      <th>spch</th>\n",
       "      <th>pop</th>\n",
       "    </tr>\n",
       "  </thead>\n",
       "  <tbody>\n",
       "    <tr>\n",
       "      <th>571</th>\n",
       "      <td>Drip (feat. Migos)</td>\n",
       "      <td>Cardi B</td>\n",
       "      <td>pop</td>\n",
       "      <td>2018</td>\n",
       "      <td>130</td>\n",
       "      <td>59</td>\n",
       "      <td>97</td>\n",
       "      <td>-8</td>\n",
       "      <td>8</td>\n",
       "      <td>27</td>\n",
       "      <td>264</td>\n",
       "      <td>5</td>\n",
       "      <td>26</td>\n",
       "      <td>45</td>\n",
       "    </tr>\n",
       "    <tr>\n",
       "      <th>540</th>\n",
       "      <td>Bad Liar</td>\n",
       "      <td>Selena Gomez</td>\n",
       "      <td>dance pop</td>\n",
       "      <td>2018</td>\n",
       "      <td>121</td>\n",
       "      <td>41</td>\n",
       "      <td>97</td>\n",
       "      <td>-6</td>\n",
       "      <td>8</td>\n",
       "      <td>73</td>\n",
       "      <td>215</td>\n",
       "      <td>19</td>\n",
       "      <td>7</td>\n",
       "      <td>75</td>\n",
       "    </tr>\n",
       "    <tr>\n",
       "      <th>258</th>\n",
       "      <td>Anaconda</td>\n",
       "      <td>Nicki Minaj</td>\n",
       "      <td>dance pop</td>\n",
       "      <td>2014</td>\n",
       "      <td>130</td>\n",
       "      <td>60</td>\n",
       "      <td>96</td>\n",
       "      <td>-6</td>\n",
       "      <td>21</td>\n",
       "      <td>65</td>\n",
       "      <td>260</td>\n",
       "      <td>7</td>\n",
       "      <td>18</td>\n",
       "      <td>50</td>\n",
       "    </tr>\n",
       "    <tr>\n",
       "      <th>390</th>\n",
       "      <td>Me Too</td>\n",
       "      <td>Meghan Trainor</td>\n",
       "      <td>dance pop</td>\n",
       "      <td>2016</td>\n",
       "      <td>124</td>\n",
       "      <td>69</td>\n",
       "      <td>93</td>\n",
       "      <td>-6</td>\n",
       "      <td>48</td>\n",
       "      <td>84</td>\n",
       "      <td>181</td>\n",
       "      <td>10</td>\n",
       "      <td>10</td>\n",
       "      <td>73</td>\n",
       "    </tr>\n",
       "  </tbody>\n",
       "</table>\n",
       "</div>"
      ],
      "text/plain": [
       "                  title          artist  top genre  year  bpm  nrgy  dnce  dB  \\\n",
       "571  Drip (feat. Migos)         Cardi B        pop  2018  130    59    97  -8   \n",
       "540            Bad Liar    Selena Gomez  dance pop  2018  121    41    97  -6   \n",
       "258            Anaconda     Nicki Minaj  dance pop  2014  130    60    96  -6   \n",
       "390              Me Too  Meghan Trainor  dance pop  2016  124    69    93  -6   \n",
       "\n",
       "     live  val  dur  acous  spch  pop  \n",
       "571     8   27  264      5    26   45  \n",
       "540     8   73  215     19     7   75  \n",
       "258    21   65  260      7    18   50  \n",
       "390    48   84  181     10    10   73  "
      ]
     },
     "execution_count": 13,
     "metadata": {},
     "output_type": "execute_result"
    }
   ],
   "source": [
    "most_dancey[:4]\n",
    "\n",
    "\n",
    "# title\tartist\ttop genre\tyear\tbpm\tnrgy\tdnce\tdB\tlive\tval\tdur\tacous\tspch\tpop\n",
    "# 571\tDrip (feat. Migos)\tCardi B\tpop\t2018\t130\t59\t97\t-8\t8\t27\t264\t5\t26\t45\n",
    "# 540\tBad Liar\tSelena Gomez\tdance pop\t2018\t121\t41\t97\t-6\t8\t73\t215\t19\t7\t75\n",
    "# 258\tAnaconda\tNicki Minaj\tdance pop\t2014\t130\t60\t96\t-6\t21\t65\t260\t7\t18\t50\n",
    "# 390\tMe Too\tMeghan Trainor\tdance pop\t2016\t124\t69\t93\t-6\t48\t84\t181\t10\t10\t73\n",
    "# "
   ]
  },
  {
   "cell_type": "markdown",
   "metadata": {},
   "source": [
    "Then use numpy to do the same."
   ]
  },
  {
   "cell_type": "markdown",
   "metadata": {},
   "source": [
    "We'll get you started."
   ]
  },
  {
   "cell_type": "code",
   "execution_count": 21,
   "metadata": {},
   "outputs": [
    {
     "data": {
      "text/plain": [
       "6"
      ]
     },
     "execution_count": 21,
     "metadata": {},
     "output_type": "execute_result"
    }
   ],
   "source": [
    "df.columns.tolist().index('dnce')"
   ]
  },
  {
   "cell_type": "markdown",
   "metadata": {},
   "source": [
    "> The ordering may be slightly different than the one above, as there are ties.  Still use numpy to sort the rows by danciness."
   ]
  },
  {
   "cell_type": "code",
   "execution_count": 24,
   "metadata": {},
   "outputs": [],
   "source": [
    "sorted_songs_np = None"
   ]
  },
  {
   "cell_type": "code",
   "execution_count": null,
   "metadata": {},
   "outputs": [],
   "source": [
    "sorted_songs_np\n",
    "# array([['Bad Liar', 'Selena Gomez', 'dance pop', ..., 19, 7, 75],\n",
    "#        ['Drip (feat. Migos)', 'Cardi B', 'pop', ..., 5, 26, 45],\n",
    "#        ['Anaconda', 'Nicki Minaj', 'dance pop', ..., 7, 18, 50],\n",
    "#        ...,\n",
    "#        ['St Jude', 'Florence + The Machine', 'art pop', ..., 75, 3, 47],\n",
    "#        ['You Lost Me', 'Christina Aguilera', 'dance pop', ..., 85, 4, 56],\n",
    "#        ['Million Years Ago', 'Adele', 'british soul', ..., 0, 0, 0]],\n",
    "#       dtype=object)\n"
   ]
  },
  {
   "cell_type": "markdown",
   "metadata": {},
   "source": [
    "For each row, add up the sum of the last 10 columns either in numpy."
   ]
  },
  {
   "cell_type": "code",
   "execution_count": 1,
   "metadata": {},
   "outputs": [],
   "source": [
    "sum_of_features = None\n"
   ]
  },
  {
   "cell_type": "code",
   "execution_count": null,
   "metadata": {},
   "outputs": [],
   "source": [
    "sum_of_features[:3]\n",
    "\n",
    "# array([660, 758, 681], dtype=object)"
   ]
  },
  {
   "cell_type": "markdown",
   "metadata": {},
   "source": [
    "Now we'll add this to the pandas dataframe."
   ]
  },
  {
   "cell_type": "code",
   "execution_count": 28,
   "metadata": {},
   "outputs": [],
   "source": [
    "total_score = pd.Series(sum_of_features, name = 'total_score')"
   ]
  },
  {
   "cell_type": "markdown",
   "metadata": {},
   "source": [
    "Now we'll assign total score to our dataframe."
   ]
  },
  {
   "cell_type": "code",
   "execution_count": 29,
   "metadata": {},
   "outputs": [],
   "source": [
    "df_with_total = df.assign(total_score = total_score)"
   ]
  },
  {
   "cell_type": "code",
   "execution_count": 30,
   "metadata": {},
   "outputs": [
    {
     "data": {
      "text/html": [
       "<div>\n",
       "<style scoped>\n",
       "    .dataframe tbody tr th:only-of-type {\n",
       "        vertical-align: middle;\n",
       "    }\n",
       "\n",
       "    .dataframe tbody tr th {\n",
       "        vertical-align: top;\n",
       "    }\n",
       "\n",
       "    .dataframe thead th {\n",
       "        text-align: right;\n",
       "    }\n",
       "</style>\n",
       "<table border=\"1\" class=\"dataframe\">\n",
       "  <thead>\n",
       "    <tr style=\"text-align: right;\">\n",
       "      <th></th>\n",
       "      <th>title</th>\n",
       "      <th>artist</th>\n",
       "      <th>top genre</th>\n",
       "      <th>year</th>\n",
       "      <th>bpm</th>\n",
       "      <th>nrgy</th>\n",
       "      <th>dnce</th>\n",
       "      <th>dB</th>\n",
       "      <th>live</th>\n",
       "      <th>val</th>\n",
       "      <th>dur</th>\n",
       "      <th>acous</th>\n",
       "      <th>spch</th>\n",
       "      <th>pop</th>\n",
       "      <th>total_score</th>\n",
       "    </tr>\n",
       "  </thead>\n",
       "  <tbody>\n",
       "    <tr>\n",
       "      <th>1</th>\n",
       "      <td>Hey, Soul Sister</td>\n",
       "      <td>Train</td>\n",
       "      <td>neo mellow</td>\n",
       "      <td>2010</td>\n",
       "      <td>97</td>\n",
       "      <td>89</td>\n",
       "      <td>67</td>\n",
       "      <td>-4</td>\n",
       "      <td>8</td>\n",
       "      <td>80</td>\n",
       "      <td>217</td>\n",
       "      <td>19</td>\n",
       "      <td>4</td>\n",
       "      <td>83</td>\n",
       "      <td>758</td>\n",
       "    </tr>\n",
       "    <tr>\n",
       "      <th>2</th>\n",
       "      <td>Love The Way You Lie</td>\n",
       "      <td>Eminem</td>\n",
       "      <td>detroit hip hop</td>\n",
       "      <td>2010</td>\n",
       "      <td>87</td>\n",
       "      <td>93</td>\n",
       "      <td>75</td>\n",
       "      <td>-5</td>\n",
       "      <td>52</td>\n",
       "      <td>64</td>\n",
       "      <td>263</td>\n",
       "      <td>24</td>\n",
       "      <td>23</td>\n",
       "      <td>82</td>\n",
       "      <td>681</td>\n",
       "    </tr>\n",
       "    <tr>\n",
       "      <th>3</th>\n",
       "      <td>TiK ToK</td>\n",
       "      <td>Kesha</td>\n",
       "      <td>dance pop</td>\n",
       "      <td>2010</td>\n",
       "      <td>120</td>\n",
       "      <td>84</td>\n",
       "      <td>76</td>\n",
       "      <td>-3</td>\n",
       "      <td>29</td>\n",
       "      <td>71</td>\n",
       "      <td>200</td>\n",
       "      <td>10</td>\n",
       "      <td>14</td>\n",
       "      <td>80</td>\n",
       "      <td>734</td>\n",
       "    </tr>\n",
       "  </tbody>\n",
       "</table>\n",
       "</div>"
      ],
      "text/plain": [
       "                  title  artist        top genre  year  bpm  nrgy  dnce  dB  \\\n",
       "1      Hey, Soul Sister   Train       neo mellow  2010   97    89    67  -4   \n",
       "2  Love The Way You Lie  Eminem  detroit hip hop  2010   87    93    75  -5   \n",
       "3               TiK ToK   Kesha        dance pop  2010  120    84    76  -3   \n",
       "\n",
       "   live  val  dur  acous  spch  pop total_score  \n",
       "1     8   80  217     19     4   83         758  \n",
       "2    52   64  263     24    23   82         681  \n",
       "3    29   71  200     10    14   80         734  "
      ]
     },
     "execution_count": 30,
     "metadata": {},
     "output_type": "execute_result"
    }
   ],
   "source": [
    "df_with_total[:3]"
   ]
  },
  {
   "cell_type": "markdown",
   "metadata": {},
   "source": [
    "Now look through the following dataframe `selected_df`."
   ]
  },
  {
   "cell_type": "code",
   "execution_count": 41,
   "metadata": {},
   "outputs": [],
   "source": [
    "cols = ['title', 'artist', 'top genre', 'year',  'nrgy', 'dnce', \n",
    "       'live', 'val',  'acous', 'spch', 'pop']\n",
    "selected_df = df[cols]"
   ]
  },
  {
   "cell_type": "code",
   "execution_count": 42,
   "metadata": {},
   "outputs": [
    {
     "data": {
      "text/html": [
       "<div>\n",
       "<style scoped>\n",
       "    .dataframe tbody tr th:only-of-type {\n",
       "        vertical-align: middle;\n",
       "    }\n",
       "\n",
       "    .dataframe tbody tr th {\n",
       "        vertical-align: top;\n",
       "    }\n",
       "\n",
       "    .dataframe thead th {\n",
       "        text-align: right;\n",
       "    }\n",
       "</style>\n",
       "<table border=\"1\" class=\"dataframe\">\n",
       "  <thead>\n",
       "    <tr style=\"text-align: right;\">\n",
       "      <th></th>\n",
       "      <th>title</th>\n",
       "      <th>artist</th>\n",
       "      <th>top genre</th>\n",
       "      <th>year</th>\n",
       "      <th>nrgy</th>\n",
       "      <th>dnce</th>\n",
       "      <th>live</th>\n",
       "      <th>val</th>\n",
       "      <th>acous</th>\n",
       "      <th>spch</th>\n",
       "      <th>pop</th>\n",
       "    </tr>\n",
       "  </thead>\n",
       "  <tbody>\n",
       "    <tr>\n",
       "      <th>1</th>\n",
       "      <td>Hey, Soul Sister</td>\n",
       "      <td>Train</td>\n",
       "      <td>neo mellow</td>\n",
       "      <td>2010</td>\n",
       "      <td>89</td>\n",
       "      <td>67</td>\n",
       "      <td>8</td>\n",
       "      <td>80</td>\n",
       "      <td>19</td>\n",
       "      <td>4</td>\n",
       "      <td>83</td>\n",
       "    </tr>\n",
       "    <tr>\n",
       "      <th>2</th>\n",
       "      <td>Love The Way You Lie</td>\n",
       "      <td>Eminem</td>\n",
       "      <td>detroit hip hop</td>\n",
       "      <td>2010</td>\n",
       "      <td>93</td>\n",
       "      <td>75</td>\n",
       "      <td>52</td>\n",
       "      <td>64</td>\n",
       "      <td>24</td>\n",
       "      <td>23</td>\n",
       "      <td>82</td>\n",
       "    </tr>\n",
       "    <tr>\n",
       "      <th>3</th>\n",
       "      <td>TiK ToK</td>\n",
       "      <td>Kesha</td>\n",
       "      <td>dance pop</td>\n",
       "      <td>2010</td>\n",
       "      <td>84</td>\n",
       "      <td>76</td>\n",
       "      <td>29</td>\n",
       "      <td>71</td>\n",
       "      <td>10</td>\n",
       "      <td>14</td>\n",
       "      <td>80</td>\n",
       "    </tr>\n",
       "  </tbody>\n",
       "</table>\n",
       "</div>"
      ],
      "text/plain": [
       "                  title  artist        top genre  year  nrgy  dnce  live  val  \\\n",
       "1      Hey, Soul Sister   Train       neo mellow  2010    89    67     8   80   \n",
       "2  Love The Way You Lie  Eminem  detroit hip hop  2010    93    75    52   64   \n",
       "3               TiK ToK   Kesha        dance pop  2010    84    76    29   71   \n",
       "\n",
       "   acous  spch  pop  \n",
       "1     19     4   83  \n",
       "2     24    23   82  \n",
       "3     10    14   80  "
      ]
     },
     "execution_count": 42,
     "metadata": {},
     "output_type": "execute_result"
    }
   ],
   "source": [
    "selected_df[:3]"
   ]
  },
  {
   "cell_type": "markdown",
   "metadata": {},
   "source": [
    "In the last eight columns (everything after year), find the song whose maximum value across all 8 of those columns, is the smallest for all songs.  In other words, which song has the lowest, high score."
   ]
  },
  {
   "cell_type": "code",
   "execution_count": 55,
   "metadata": {},
   "outputs": [],
   "source": [
    "selected_np = selected_df.to_numpy()"
   ]
  },
  {
   "cell_type": "code",
   "execution_count": 46,
   "metadata": {},
   "outputs": [
    {
     "data": {
      "text/plain": [
       "array(['Million Years Ago', 'Adele', 'british soul', 2016, 0, 0, 0, 0, 0,\n",
       "       0, 0], dtype=object)"
      ]
     },
     "execution_count": 46,
     "metadata": {},
     "output_type": "execute_result"
    }
   ],
   "source": [
    "# write code here \n",
    "\n",
    "# array(['Million Years Ago', 'Adele', 'british soul', 2016, 0, 0, 0, 0, 0,\n",
    "#        0, 0], dtype=object)"
   ]
  },
  {
   "cell_type": "markdown",
   "metadata": {},
   "source": [
    "Now find the bottom five."
   ]
  },
  {
   "cell_type": "code",
   "execution_count": 56,
   "metadata": {},
   "outputs": [],
   "source": [
    "# write code here\n",
    "\n",
    "# \ttitle\tartist\ttop genre\tyear\tnrgy\tdnce\tlive\tval\tacous\tspch\tpop\n",
    "# 443\tMillion Years Ago\tAdele\tbritish soul\t2016\t0\t0\t0\t0\t0\t0\t0\n",
    "# 360\tRun Run Run\tKelly Clarkson\tdance pop\t2015\t37\t28\t11\t8\t45\t4\t36\n",
    "# 363\tL.A.LOVE (la la)\tFergie\tdance pop\t2015\t39\t48\t26\t27\t2\t9\t0\n",
    "# 208\tFoolish Games\tJewel\talaska indie\t2013\t34\t51\t12\t7\t23\t3\t36\n",
    "# 262\tWords as Weapons\tBirdy\tneo mellow\t2014\t35\t53\t14\t19\t28\t3\t44"
   ]
  },
  {
   "cell_type": "code",
   "execution_count": null,
   "metadata": {},
   "outputs": [],
   "source": []
  }
 ],
 "metadata": {
  "kernelspec": {
   "display_name": "Python 3",
   "language": "python",
   "name": "python3"
  },
  "language_info": {
   "codemirror_mode": {
    "name": "ipython",
    "version": 3
   },
   "file_extension": ".py",
   "mimetype": "text/x-python",
   "name": "python",
   "nbconvert_exporter": "python",
   "pygments_lexer": "ipython3",
   "version": "3.7.4"
  }
 },
 "nbformat": 4,
 "nbformat_minor": 4
}
