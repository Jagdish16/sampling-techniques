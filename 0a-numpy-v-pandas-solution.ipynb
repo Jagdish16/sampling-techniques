{
 "cells": [
  {
   "cell_type": "markdown",
   "metadata": {},
   "source": [
    "# Numpy vs Pandas Review"
   ]
  },
  {
   "cell_type": "markdown",
   "metadata": {},
   "source": [
    "### Introduction"
   ]
  },
  {
   "cell_type": "markdown",
   "metadata": {},
   "source": [
    "In this lesson, we'll work through some problems with our spotify dataset to practice pandas and numpy skills."
   ]
  },
  {
   "cell_type": "markdown",
   "metadata": {},
   "source": [
    "Let's load up our data."
   ]
  },
  {
   "cell_type": "code",
   "execution_count": 6,
   "metadata": {},
   "outputs": [],
   "source": [
    "import pandas as pd\n",
    "\n",
    "df = pd.read_csv('./spotify.csv', encoding = 'ISO-8859-1', index_col = 0)"
   ]
  },
  {
   "cell_type": "code",
   "execution_count": 7,
   "metadata": {},
   "outputs": [
    {
     "data": {
      "text/html": [
       "<div>\n",
       "<style scoped>\n",
       "    .dataframe tbody tr th:only-of-type {\n",
       "        vertical-align: middle;\n",
       "    }\n",
       "\n",
       "    .dataframe tbody tr th {\n",
       "        vertical-align: top;\n",
       "    }\n",
       "\n",
       "    .dataframe thead th {\n",
       "        text-align: right;\n",
       "    }\n",
       "</style>\n",
       "<table border=\"1\" class=\"dataframe\">\n",
       "  <thead>\n",
       "    <tr style=\"text-align: right;\">\n",
       "      <th></th>\n",
       "      <th>title</th>\n",
       "      <th>artist</th>\n",
       "      <th>top genre</th>\n",
       "      <th>year</th>\n",
       "      <th>bpm</th>\n",
       "      <th>nrgy</th>\n",
       "      <th>dnce</th>\n",
       "      <th>dB</th>\n",
       "      <th>live</th>\n",
       "      <th>val</th>\n",
       "      <th>dur</th>\n",
       "      <th>acous</th>\n",
       "      <th>spch</th>\n",
       "      <th>pop</th>\n",
       "    </tr>\n",
       "  </thead>\n",
       "  <tbody>\n",
       "    <tr>\n",
       "      <th>1</th>\n",
       "      <td>Hey, Soul Sister</td>\n",
       "      <td>Train</td>\n",
       "      <td>neo mellow</td>\n",
       "      <td>2010</td>\n",
       "      <td>97</td>\n",
       "      <td>89</td>\n",
       "      <td>67</td>\n",
       "      <td>-4</td>\n",
       "      <td>8</td>\n",
       "      <td>80</td>\n",
       "      <td>217</td>\n",
       "      <td>19</td>\n",
       "      <td>4</td>\n",
       "      <td>83</td>\n",
       "    </tr>\n",
       "    <tr>\n",
       "      <th>2</th>\n",
       "      <td>Love The Way You Lie</td>\n",
       "      <td>Eminem</td>\n",
       "      <td>detroit hip hop</td>\n",
       "      <td>2010</td>\n",
       "      <td>87</td>\n",
       "      <td>93</td>\n",
       "      <td>75</td>\n",
       "      <td>-5</td>\n",
       "      <td>52</td>\n",
       "      <td>64</td>\n",
       "      <td>263</td>\n",
       "      <td>24</td>\n",
       "      <td>23</td>\n",
       "      <td>82</td>\n",
       "    </tr>\n",
       "    <tr>\n",
       "      <th>3</th>\n",
       "      <td>TiK ToK</td>\n",
       "      <td>Kesha</td>\n",
       "      <td>dance pop</td>\n",
       "      <td>2010</td>\n",
       "      <td>120</td>\n",
       "      <td>84</td>\n",
       "      <td>76</td>\n",
       "      <td>-3</td>\n",
       "      <td>29</td>\n",
       "      <td>71</td>\n",
       "      <td>200</td>\n",
       "      <td>10</td>\n",
       "      <td>14</td>\n",
       "      <td>80</td>\n",
       "    </tr>\n",
       "  </tbody>\n",
       "</table>\n",
       "</div>"
      ],
      "text/plain": [
       "                  title  artist        top genre  year  bpm  nrgy  dnce  dB  \\\n",
       "1      Hey, Soul Sister   Train       neo mellow  2010   97    89    67  -4   \n",
       "2  Love The Way You Lie  Eminem  detroit hip hop  2010   87    93    75  -5   \n",
       "3               TiK ToK   Kesha        dance pop  2010  120    84    76  -3   \n",
       "\n",
       "   live  val  dur  acous  spch  pop  \n",
       "1     8   80  217     19     4   83  \n",
       "2    52   64  263     24    23   82  \n",
       "3    29   71  200     10    14   80  "
      ]
     },
     "execution_count": 7,
     "metadata": {},
     "output_type": "execute_result"
    }
   ],
   "source": [
    "df[:3]"
   ]
  },
  {
   "cell_type": "markdown",
   "metadata": {},
   "source": [
    "Begin by using pandas to sort all of the rows by the `dnce` score, from highest to lowest."
   ]
  },
  {
   "cell_type": "code",
   "execution_count": 12,
   "metadata": {},
   "outputs": [],
   "source": [
    "most_dancey = df.sort_values('dnce', ascending = False)"
   ]
  },
  {
   "cell_type": "code",
   "execution_count": 13,
   "metadata": {},
   "outputs": [
    {
     "data": {
      "text/html": [
       "<div>\n",
       "<style scoped>\n",
       "    .dataframe tbody tr th:only-of-type {\n",
       "        vertical-align: middle;\n",
       "    }\n",
       "\n",
       "    .dataframe tbody tr th {\n",
       "        vertical-align: top;\n",
       "    }\n",
       "\n",
       "    .dataframe thead th {\n",
       "        text-align: right;\n",
       "    }\n",
       "</style>\n",
       "<table border=\"1\" class=\"dataframe\">\n",
       "  <thead>\n",
       "    <tr style=\"text-align: right;\">\n",
       "      <th></th>\n",
       "      <th>title</th>\n",
       "      <th>artist</th>\n",
       "      <th>top genre</th>\n",
       "      <th>year</th>\n",
       "      <th>bpm</th>\n",
       "      <th>nrgy</th>\n",
       "      <th>dnce</th>\n",
       "      <th>dB</th>\n",
       "      <th>live</th>\n",
       "      <th>val</th>\n",
       "      <th>dur</th>\n",
       "      <th>acous</th>\n",
       "      <th>spch</th>\n",
       "      <th>pop</th>\n",
       "    </tr>\n",
       "  </thead>\n",
       "  <tbody>\n",
       "    <tr>\n",
       "      <th>571</th>\n",
       "      <td>Drip (feat. Migos)</td>\n",
       "      <td>Cardi B</td>\n",
       "      <td>pop</td>\n",
       "      <td>2018</td>\n",
       "      <td>130</td>\n",
       "      <td>59</td>\n",
       "      <td>97</td>\n",
       "      <td>-8</td>\n",
       "      <td>8</td>\n",
       "      <td>27</td>\n",
       "      <td>264</td>\n",
       "      <td>5</td>\n",
       "      <td>26</td>\n",
       "      <td>45</td>\n",
       "    </tr>\n",
       "    <tr>\n",
       "      <th>540</th>\n",
       "      <td>Bad Liar</td>\n",
       "      <td>Selena Gomez</td>\n",
       "      <td>dance pop</td>\n",
       "      <td>2018</td>\n",
       "      <td>121</td>\n",
       "      <td>41</td>\n",
       "      <td>97</td>\n",
       "      <td>-6</td>\n",
       "      <td>8</td>\n",
       "      <td>73</td>\n",
       "      <td>215</td>\n",
       "      <td>19</td>\n",
       "      <td>7</td>\n",
       "      <td>75</td>\n",
       "    </tr>\n",
       "    <tr>\n",
       "      <th>258</th>\n",
       "      <td>Anaconda</td>\n",
       "      <td>Nicki Minaj</td>\n",
       "      <td>dance pop</td>\n",
       "      <td>2014</td>\n",
       "      <td>130</td>\n",
       "      <td>60</td>\n",
       "      <td>96</td>\n",
       "      <td>-6</td>\n",
       "      <td>21</td>\n",
       "      <td>65</td>\n",
       "      <td>260</td>\n",
       "      <td>7</td>\n",
       "      <td>18</td>\n",
       "      <td>50</td>\n",
       "    </tr>\n",
       "    <tr>\n",
       "      <th>390</th>\n",
       "      <td>Me Too</td>\n",
       "      <td>Meghan Trainor</td>\n",
       "      <td>dance pop</td>\n",
       "      <td>2016</td>\n",
       "      <td>124</td>\n",
       "      <td>69</td>\n",
       "      <td>93</td>\n",
       "      <td>-6</td>\n",
       "      <td>48</td>\n",
       "      <td>84</td>\n",
       "      <td>181</td>\n",
       "      <td>10</td>\n",
       "      <td>10</td>\n",
       "      <td>73</td>\n",
       "    </tr>\n",
       "  </tbody>\n",
       "</table>\n",
       "</div>"
      ],
      "text/plain": [
       "                  title          artist  top genre  year  bpm  nrgy  dnce  dB  \\\n",
       "571  Drip (feat. Migos)         Cardi B        pop  2018  130    59    97  -8   \n",
       "540            Bad Liar    Selena Gomez  dance pop  2018  121    41    97  -6   \n",
       "258            Anaconda     Nicki Minaj  dance pop  2014  130    60    96  -6   \n",
       "390              Me Too  Meghan Trainor  dance pop  2016  124    69    93  -6   \n",
       "\n",
       "     live  val  dur  acous  spch  pop  \n",
       "571     8   27  264      5    26   45  \n",
       "540     8   73  215     19     7   75  \n",
       "258    21   65  260      7    18   50  \n",
       "390    48   84  181     10    10   73  "
      ]
     },
     "execution_count": 13,
     "metadata": {},
     "output_type": "execute_result"
    }
   ],
   "source": [
    "most_dancey[:4]\n",
    "\n",
    "\n",
    "# title\tartist\ttop genre\tyear\tbpm\tnrgy\tdnce\tdB\tlive\tval\tdur\tacous\tspch\tpop\n",
    "# 571\tDrip (feat. Migos)\tCardi B\tpop\t2018\t130\t59\t97\t-8\t8\t27\t264\t5\t26\t45\n",
    "# 540\tBad Liar\tSelena Gomez\tdance pop\t2018\t121\t41\t97\t-6\t8\t73\t215\t19\t7\t75\n",
    "# 258\tAnaconda\tNicki Minaj\tdance pop\t2014\t130\t60\t96\t-6\t21\t65\t260\t7\t18\t50\n",
    "# 390\tMe Too\tMeghan Trainor\tdance pop\t2016\t124\t69\t93\t-6\t48\t84\t181\t10\t10\t73\n",
    "# ​"
   ]
  },
  {
   "cell_type": "markdown",
   "metadata": {},
   "source": [
    "Then use numpy to do the same."
   ]
  },
  {
   "cell_type": "markdown",
   "metadata": {},
   "source": [
    "We'll get you started."
   ]
  },
  {
   "cell_type": "code",
   "execution_count": 21,
   "metadata": {},
   "outputs": [
    {
     "data": {
      "text/plain": [
       "6"
      ]
     },
     "execution_count": 21,
     "metadata": {},
     "output_type": "execute_result"
    }
   ],
   "source": [
    "df.columns.tolist().index('dnce')"
   ]
  },
  {
   "cell_type": "code",
   "execution_count": 14,
   "metadata": {},
   "outputs": [],
   "source": [
    "import numpy as np\n",
    "songs_np = df.to_numpy()"
   ]
  },
  {
   "cell_type": "markdown",
   "metadata": {},
   "source": [
    "> The ordering may be slightly different, as there are ties."
   ]
  },
  {
   "cell_type": "code",
   "execution_count": 24,
   "metadata": {},
   "outputs": [],
   "source": [
    "sorted_songs_np = songs_np[songs_np[:, 6].argsort()[::-1]]"
   ]
  },
  {
   "cell_type": "code",
   "execution_count": null,
   "metadata": {},
   "outputs": [],
   "source": [
    "sorted_songs_np\n",
    "# array([['Bad Liar', 'Selena Gomez', 'dance pop', ..., 19, 7, 75],\n",
    "#        ['Drip (feat. Migos)', 'Cardi B', 'pop', ..., 5, 26, 45],\n",
    "#        ['Anaconda', 'Nicki Minaj', 'dance pop', ..., 7, 18, 50],\n",
    "#        ...,\n",
    "#        ['St Jude', 'Florence + The Machine', 'art pop', ..., 75, 3, 47],\n",
    "#        ['You Lost Me', 'Christina Aguilera', 'dance pop', ..., 85, 4, 56],\n",
    "#        ['Million Years Ago', 'Adele', 'british soul', ..., 0, 0, 0]],\n",
    "#       dtype=object)\n"
   ]
  },
  {
   "cell_type": "markdown",
   "metadata": {},
   "source": [
    "For each row, add up the sum of the last 10 columns either in numpy or pandas."
   ]
  },
  {
   "cell_type": "code",
   "execution_count": 27,
   "metadata": {},
   "outputs": [
    {
     "data": {
      "text/plain": [
       "array([660, 758, 681], dtype=object)"
      ]
     },
     "execution_count": 27,
     "metadata": {},
     "output_type": "execute_result"
    }
   ],
   "source": [
    "sum_of_features = np.sum(songs_np[:, -10:], axis = 1)\n",
    "sum_of_features[:3]"
   ]
  },
  {
   "cell_type": "code",
   "execution_count": 28,
   "metadata": {},
   "outputs": [],
   "source": [
    "total_score = pd.Series(sum_of_features, name = 'total_score')"
   ]
  },
  {
   "cell_type": "markdown",
   "metadata": {},
   "source": [
    "Now we'll assign total score to our dataframe."
   ]
  },
  {
   "cell_type": "code",
   "execution_count": 29,
   "metadata": {},
   "outputs": [],
   "source": [
    "df_with_total = df.assign(total_score = total_score)"
   ]
  },
  {
   "cell_type": "code",
   "execution_count": 30,
   "metadata": {},
   "outputs": [
    {
     "data": {
      "text/html": [
       "<div>\n",
       "<style scoped>\n",
       "    .dataframe tbody tr th:only-of-type {\n",
       "        vertical-align: middle;\n",
       "    }\n",
       "\n",
       "    .dataframe tbody tr th {\n",
       "        vertical-align: top;\n",
       "    }\n",
       "\n",
       "    .dataframe thead th {\n",
       "        text-align: right;\n",
       "    }\n",
       "</style>\n",
       "<table border=\"1\" class=\"dataframe\">\n",
       "  <thead>\n",
       "    <tr style=\"text-align: right;\">\n",
       "      <th></th>\n",
       "      <th>title</th>\n",
       "      <th>artist</th>\n",
       "      <th>top genre</th>\n",
       "      <th>year</th>\n",
       "      <th>bpm</th>\n",
       "      <th>nrgy</th>\n",
       "      <th>dnce</th>\n",
       "      <th>dB</th>\n",
       "      <th>live</th>\n",
       "      <th>val</th>\n",
       "      <th>dur</th>\n",
       "      <th>acous</th>\n",
       "      <th>spch</th>\n",
       "      <th>pop</th>\n",
       "      <th>total_score</th>\n",
       "    </tr>\n",
       "  </thead>\n",
       "  <tbody>\n",
       "    <tr>\n",
       "      <th>1</th>\n",
       "      <td>Hey, Soul Sister</td>\n",
       "      <td>Train</td>\n",
       "      <td>neo mellow</td>\n",
       "      <td>2010</td>\n",
       "      <td>97</td>\n",
       "      <td>89</td>\n",
       "      <td>67</td>\n",
       "      <td>-4</td>\n",
       "      <td>8</td>\n",
       "      <td>80</td>\n",
       "      <td>217</td>\n",
       "      <td>19</td>\n",
       "      <td>4</td>\n",
       "      <td>83</td>\n",
       "      <td>758</td>\n",
       "    </tr>\n",
       "    <tr>\n",
       "      <th>2</th>\n",
       "      <td>Love The Way You Lie</td>\n",
       "      <td>Eminem</td>\n",
       "      <td>detroit hip hop</td>\n",
       "      <td>2010</td>\n",
       "      <td>87</td>\n",
       "      <td>93</td>\n",
       "      <td>75</td>\n",
       "      <td>-5</td>\n",
       "      <td>52</td>\n",
       "      <td>64</td>\n",
       "      <td>263</td>\n",
       "      <td>24</td>\n",
       "      <td>23</td>\n",
       "      <td>82</td>\n",
       "      <td>681</td>\n",
       "    </tr>\n",
       "    <tr>\n",
       "      <th>3</th>\n",
       "      <td>TiK ToK</td>\n",
       "      <td>Kesha</td>\n",
       "      <td>dance pop</td>\n",
       "      <td>2010</td>\n",
       "      <td>120</td>\n",
       "      <td>84</td>\n",
       "      <td>76</td>\n",
       "      <td>-3</td>\n",
       "      <td>29</td>\n",
       "      <td>71</td>\n",
       "      <td>200</td>\n",
       "      <td>10</td>\n",
       "      <td>14</td>\n",
       "      <td>80</td>\n",
       "      <td>734</td>\n",
       "    </tr>\n",
       "  </tbody>\n",
       "</table>\n",
       "</div>"
      ],
      "text/plain": [
       "                  title  artist        top genre  year  bpm  nrgy  dnce  dB  \\\n",
       "1      Hey, Soul Sister   Train       neo mellow  2010   97    89    67  -4   \n",
       "2  Love The Way You Lie  Eminem  detroit hip hop  2010   87    93    75  -5   \n",
       "3               TiK ToK   Kesha        dance pop  2010  120    84    76  -3   \n",
       "\n",
       "   live  val  dur  acous  spch  pop total_score  \n",
       "1     8   80  217     19     4   83         758  \n",
       "2    52   64  263     24    23   82         681  \n",
       "3    29   71  200     10    14   80         734  "
      ]
     },
     "execution_count": 30,
     "metadata": {},
     "output_type": "execute_result"
    }
   ],
   "source": [
    "df_with_total[:3]"
   ]
  },
  {
   "cell_type": "markdown",
   "metadata": {},
   "source": [
    "Now look through the following dataframe."
   ]
  },
  {
   "cell_type": "code",
   "execution_count": 41,
   "metadata": {},
   "outputs": [],
   "source": [
    "cols = ['title', 'artist', 'top genre', 'year',  'nrgy', 'dnce', \n",
    "       'live', 'val',  'acous', 'spch', 'pop']\n",
    "selected_df = df[cols]"
   ]
  },
  {
   "cell_type": "code",
   "execution_count": 42,
   "metadata": {},
   "outputs": [
    {
     "data": {
      "text/html": [
       "<div>\n",
       "<style scoped>\n",
       "    .dataframe tbody tr th:only-of-type {\n",
       "        vertical-align: middle;\n",
       "    }\n",
       "\n",
       "    .dataframe tbody tr th {\n",
       "        vertical-align: top;\n",
       "    }\n",
       "\n",
       "    .dataframe thead th {\n",
       "        text-align: right;\n",
       "    }\n",
       "</style>\n",
       "<table border=\"1\" class=\"dataframe\">\n",
       "  <thead>\n",
       "    <tr style=\"text-align: right;\">\n",
       "      <th></th>\n",
       "      <th>title</th>\n",
       "      <th>artist</th>\n",
       "      <th>top genre</th>\n",
       "      <th>year</th>\n",
       "      <th>nrgy</th>\n",
       "      <th>dnce</th>\n",
       "      <th>live</th>\n",
       "      <th>val</th>\n",
       "      <th>acous</th>\n",
       "      <th>spch</th>\n",
       "      <th>pop</th>\n",
       "    </tr>\n",
       "  </thead>\n",
       "  <tbody>\n",
       "    <tr>\n",
       "      <th>1</th>\n",
       "      <td>Hey, Soul Sister</td>\n",
       "      <td>Train</td>\n",
       "      <td>neo mellow</td>\n",
       "      <td>2010</td>\n",
       "      <td>89</td>\n",
       "      <td>67</td>\n",
       "      <td>8</td>\n",
       "      <td>80</td>\n",
       "      <td>19</td>\n",
       "      <td>4</td>\n",
       "      <td>83</td>\n",
       "    </tr>\n",
       "    <tr>\n",
       "      <th>2</th>\n",
       "      <td>Love The Way You Lie</td>\n",
       "      <td>Eminem</td>\n",
       "      <td>detroit hip hop</td>\n",
       "      <td>2010</td>\n",
       "      <td>93</td>\n",
       "      <td>75</td>\n",
       "      <td>52</td>\n",
       "      <td>64</td>\n",
       "      <td>24</td>\n",
       "      <td>23</td>\n",
       "      <td>82</td>\n",
       "    </tr>\n",
       "    <tr>\n",
       "      <th>3</th>\n",
       "      <td>TiK ToK</td>\n",
       "      <td>Kesha</td>\n",
       "      <td>dance pop</td>\n",
       "      <td>2010</td>\n",
       "      <td>84</td>\n",
       "      <td>76</td>\n",
       "      <td>29</td>\n",
       "      <td>71</td>\n",
       "      <td>10</td>\n",
       "      <td>14</td>\n",
       "      <td>80</td>\n",
       "    </tr>\n",
       "  </tbody>\n",
       "</table>\n",
       "</div>"
      ],
      "text/plain": [
       "                  title  artist        top genre  year  nrgy  dnce  live  val  \\\n",
       "1      Hey, Soul Sister   Train       neo mellow  2010    89    67     8   80   \n",
       "2  Love The Way You Lie  Eminem  detroit hip hop  2010    93    75    52   64   \n",
       "3               TiK ToK   Kesha        dance pop  2010    84    76    29   71   \n",
       "\n",
       "   acous  spch  pop  \n",
       "1     19     4   83  \n",
       "2     24    23   82  \n",
       "3     10    14   80  "
      ]
     },
     "execution_count": 42,
     "metadata": {},
     "output_type": "execute_result"
    }
   ],
   "source": [
    "selected_df[:3]"
   ]
  },
  {
   "cell_type": "markdown",
   "metadata": {},
   "source": [
    "In the last eight columns (everything after year), find the song whose maximum value across all 8 of those columns, is the smallest for all songs.  In other words, which song has the lowest high score."
   ]
  },
  {
   "cell_type": "code",
   "execution_count": 44,
   "metadata": {},
   "outputs": [],
   "source": [
    "selected_np = selected_df.to_numpy()"
   ]
  },
  {
   "cell_type": "code",
   "execution_count": 45,
   "metadata": {},
   "outputs": [
    {
     "data": {
      "text/plain": [
       "442"
      ]
     },
     "execution_count": 45,
     "metadata": {},
     "output_type": "execute_result"
    }
   ],
   "source": [
    "np.argmin(np.max(selected_np[:, -7:], axis = 1))"
   ]
  },
  {
   "cell_type": "code",
   "execution_count": 46,
   "metadata": {},
   "outputs": [
    {
     "data": {
      "text/plain": [
       "array(['Million Years Ago', 'Adele', 'british soul', 2016, 0, 0, 0, 0, 0,\n",
       "       0, 0], dtype=object)"
      ]
     },
     "execution_count": 46,
     "metadata": {},
     "output_type": "execute_result"
    }
   ],
   "source": [
    "selected_np[442]"
   ]
  },
  {
   "cell_type": "markdown",
   "metadata": {},
   "source": [
    "Now find the bottom five."
   ]
  },
  {
   "cell_type": "code",
   "execution_count": 50,
   "metadata": {},
   "outputs": [
    {
     "data": {
      "text/html": [
       "<div>\n",
       "<style scoped>\n",
       "    .dataframe tbody tr th:only-of-type {\n",
       "        vertical-align: middle;\n",
       "    }\n",
       "\n",
       "    .dataframe tbody tr th {\n",
       "        vertical-align: top;\n",
       "    }\n",
       "\n",
       "    .dataframe thead th {\n",
       "        text-align: right;\n",
       "    }\n",
       "</style>\n",
       "<table border=\"1\" class=\"dataframe\">\n",
       "  <thead>\n",
       "    <tr style=\"text-align: right;\">\n",
       "      <th></th>\n",
       "      <th>title</th>\n",
       "      <th>artist</th>\n",
       "      <th>top genre</th>\n",
       "      <th>year</th>\n",
       "      <th>nrgy</th>\n",
       "      <th>dnce</th>\n",
       "      <th>live</th>\n",
       "      <th>val</th>\n",
       "      <th>acous</th>\n",
       "      <th>spch</th>\n",
       "      <th>pop</th>\n",
       "    </tr>\n",
       "  </thead>\n",
       "  <tbody>\n",
       "    <tr>\n",
       "      <th>443</th>\n",
       "      <td>Million Years Ago</td>\n",
       "      <td>Adele</td>\n",
       "      <td>british soul</td>\n",
       "      <td>2016</td>\n",
       "      <td>0</td>\n",
       "      <td>0</td>\n",
       "      <td>0</td>\n",
       "      <td>0</td>\n",
       "      <td>0</td>\n",
       "      <td>0</td>\n",
       "      <td>0</td>\n",
       "    </tr>\n",
       "    <tr>\n",
       "      <th>360</th>\n",
       "      <td>Run Run Run</td>\n",
       "      <td>Kelly Clarkson</td>\n",
       "      <td>dance pop</td>\n",
       "      <td>2015</td>\n",
       "      <td>37</td>\n",
       "      <td>28</td>\n",
       "      <td>11</td>\n",
       "      <td>8</td>\n",
       "      <td>45</td>\n",
       "      <td>4</td>\n",
       "      <td>36</td>\n",
       "    </tr>\n",
       "    <tr>\n",
       "      <th>363</th>\n",
       "      <td>L.A.LOVE (la la)</td>\n",
       "      <td>Fergie</td>\n",
       "      <td>dance pop</td>\n",
       "      <td>2015</td>\n",
       "      <td>39</td>\n",
       "      <td>48</td>\n",
       "      <td>26</td>\n",
       "      <td>27</td>\n",
       "      <td>2</td>\n",
       "      <td>9</td>\n",
       "      <td>0</td>\n",
       "    </tr>\n",
       "    <tr>\n",
       "      <th>208</th>\n",
       "      <td>Foolish Games</td>\n",
       "      <td>Jewel</td>\n",
       "      <td>alaska indie</td>\n",
       "      <td>2013</td>\n",
       "      <td>34</td>\n",
       "      <td>51</td>\n",
       "      <td>12</td>\n",
       "      <td>7</td>\n",
       "      <td>23</td>\n",
       "      <td>3</td>\n",
       "      <td>36</td>\n",
       "    </tr>\n",
       "    <tr>\n",
       "      <th>262</th>\n",
       "      <td>Words as Weapons</td>\n",
       "      <td>Birdy</td>\n",
       "      <td>neo mellow</td>\n",
       "      <td>2014</td>\n",
       "      <td>35</td>\n",
       "      <td>53</td>\n",
       "      <td>14</td>\n",
       "      <td>19</td>\n",
       "      <td>28</td>\n",
       "      <td>3</td>\n",
       "      <td>44</td>\n",
       "    </tr>\n",
       "  </tbody>\n",
       "</table>\n",
       "</div>"
      ],
      "text/plain": [
       "                 title          artist     top genre  year  nrgy  dnce  live  \\\n",
       "443  Million Years Ago           Adele  british soul  2016     0     0     0   \n",
       "360        Run Run Run  Kelly Clarkson     dance pop  2015    37    28    11   \n",
       "363   L.A.LOVE (la la)          Fergie     dance pop  2015    39    48    26   \n",
       "208      Foolish Games           Jewel  alaska indie  2013    34    51    12   \n",
       "262   Words as Weapons           Birdy    neo mellow  2014    35    53    14   \n",
       "\n",
       "     val  acous  spch  pop  \n",
       "443    0      0     0    0  \n",
       "360    8     45     4   36  \n",
       "363   27      2     9    0  \n",
       "208    7     23     3   36  \n",
       "262   19     28     3   44  "
      ]
     },
     "execution_count": 50,
     "metadata": {},
     "output_type": "execute_result"
    }
   ],
   "source": [
    "selected_df.iloc[np.argsort(np.max(selected_np[:, -7:], axis = 1))][:5]"
   ]
  },
  {
   "cell_type": "code",
   "execution_count": null,
   "metadata": {},
   "outputs": [],
   "source": []
  }
 ],
 "metadata": {
  "kernelspec": {
   "display_name": "Python 3",
   "language": "python",
   "name": "python3"
  },
  "language_info": {
   "codemirror_mode": {
    "name": "ipython",
    "version": 3
   },
   "file_extension": ".py",
   "mimetype": "text/x-python",
   "name": "python",
   "nbconvert_exporter": "python",
   "pygments_lexer": "ipython3",
   "version": "3.7.4"
  }
 },
 "nbformat": 4,
 "nbformat_minor": 4
}
